{
  "nbformat": 4,
  "nbformat_minor": 0,
  "metadata": {
    "colab": {
      "provenance": [],
      "include_colab_link": true
    },
    "kernelspec": {
      "name": "python3",
      "display_name": "Python 3"
    },
    "language_info": {
      "name": "python"
    }
  },
  "cells": [
    {
      "cell_type": "markdown",
      "metadata": {
        "id": "view-in-github",
        "colab_type": "text"
      },
      "source": [
        "<a href=\"https://colab.research.google.com/github/thedreadpersephone/data-and-python/blob/main/Copy_of_P_02a_Air_Quality_Mini_Project.ipynb\" target=\"_parent\"><img src=\"https://colab.research.google.com/assets/colab-badge.svg\" alt=\"Open In Colab\"/></a>"
      ]
    },
    {
      "cell_type": "markdown",
      "source": [
        "# Air Quality Mini Project\n",
        "\n",
        "\n",
        "\n",
        "---\n",
        "\n"
      ],
      "metadata": {
        "id": "p4J_O-vcXj2S"
      }
    },
    {
      "cell_type": "markdown",
      "source": [
        "## Define the Problem\n",
        "\n",
        "\n",
        "\n",
        "---\n",
        "\n"
      ],
      "metadata": {
        "id": "cTAxcqRSaQA_"
      }
    },
    {
      "cell_type": "markdown",
      "source": [
        "###Nitrogen dioxide\n",
        "Nitrogen dioxide is a poisonous gas present in the air we breathe. Although nitrogen dioxide is introduced to the environment through natural causes, human activity contributes to the level of nitrogen dioxide in the air and can increase it to a harmful extent. Nitrogen dixoide may be present indoors due to the use of gas stoves, smoking cigarettes and using butane or kerosene heaters. Outdoors, the main exposure to nitrogen dioxide comes from motor vehicles. Long term exposure to nitrogen dioxide causes inflammation of the airways, can exacerbate the symptoms of those already suffering from lung or heart conditions, and can worsen asthma in children. Nitrogen dioxide also causes harm to plants by increasing nitrogen levels in soil and water. Nitrogen dioxide is involved in the formation of ozone, another gas which is harmful to human health and to vegetation.\n",
        "\n",
        "###The question\n",
        "The question we would like to investigate is when nitrogen dioxide levels are higher. This knowledge may allow vulnerable people, such as those with lung conditions and children, to plan their journeys to avoid the peak times of exposure. It would also allow the local authority to consider the value of changes such as using or encouraging the use of electric vehicles, reducing road width and other traffic reduction measures, or to evaluate the effect of those changes if they have been introduced. Knowing more about when high levels of nitrogen dioxide are measured could provide information about which types of changes could be more effective."
      ],
      "metadata": {
        "id": "13wwfcandl3L"
      }
    },
    {
      "cell_type": "markdown",
      "source": [
        "## Collect the Data\n",
        "\n",
        "\n",
        "---"
      ],
      "metadata": {
        "id": "1laU9L8caXJn"
      }
    },
    {
      "cell_type": "markdown",
      "source": [
        "###Data source and description\n",
        "To investigate this question we will consider data collected from the Air Information Resource provided by Defra.\n",
        "© Crown 2025 copyright Defra via uk-air.defra.gov.uk, licenced under the Open Government Licence (OGL).\n",
        "The data has been collected by a monitoring network. We have accessed it using the data selector service here:[link text](https://uk-air.defra.gov.uk/data/data_selector_service?#mid) On this occasion we have selected data collected at Great Western Road in Glasgow, a busy urban area, and we are using data collected between 1st January 2024 and 31st December 2024.\n",
        "The column headers are: Date, Time, Nitrogen Dioxide and Status. A measurement of nitrogen dioxide is provided for each hour, 24 hours a day for each day in the year.\n",
        "\n"
      ],
      "metadata": {
        "id": "XZR4_VVtfWa9"
      }
    },
    {
      "cell_type": "code",
      "source": [
        "import pandas as pd\n",
        "from datetime import datetime\n",
        "import numpy as np\n",
        "import matplotlib.pyplot as plt\n",
        "url = \"https://raw.githubusercontent.com/thedreadpersephone/data-and-python/refs/heads/main/AirQualityDataHourly.csv\"\n",
        "air_quality = pd.read_csv(url)"
      ],
      "metadata": {
        "id": "XqkqkmYXaavd"
      },
      "execution_count": 1,
      "outputs": []
    },
    {
      "cell_type": "markdown",
      "source": [
        "## Clean and Transform\n",
        "\n",
        "\n",
        "---\n",
        "\n"
      ],
      "metadata": {
        "id": "uqX6FgJPabBw"
      }
    },
    {
      "cell_type": "code",
      "source": [
        "def investigate_data(df):\n",
        "  df.info()\n",
        "  display (df.head())\n",
        "  print(df[\"Status\"].unique())\n",
        "investigation = investigate_data(air_quality)"
      ],
      "metadata": {
        "id": "a4yluXmqaeuJ",
        "colab": {
          "base_uri": "https://localhost:8080/",
          "height": 421
        },
        "outputId": "c97c0f4d-9ffa-4c87-f53c-72fe8fe0ec89"
      },
      "execution_count": 2,
      "outputs": [
        {
          "output_type": "stream",
          "name": "stdout",
          "text": [
            "<class 'pandas.core.frame.DataFrame'>\n",
            "RangeIndex: 8784 entries, 0 to 8783\n",
            "Data columns (total 4 columns):\n",
            " #   Column            Non-Null Count  Dtype \n",
            "---  ------            --------------  ----- \n",
            " 0   Date              8784 non-null   object\n",
            " 1   Time              8784 non-null   object\n",
            " 2   Nitrogen dioxide  8784 non-null   object\n",
            " 3   Status            8784 non-null   object\n",
            "dtypes: object(4)\n",
            "memory usage: 274.6+ KB\n"
          ]
        },
        {
          "output_type": "display_data",
          "data": {
            "text/plain": [
              "         Date      Time Nitrogen dioxide   Status\n",
              "0  2024-01-01  01:00:00         50.03395  V ugm-3\n",
              "1  2024-01-01  02:00:00         53.74124  V ugm-3\n",
              "2  2024-01-01  03:00:00         44.99584  V ugm-3\n",
              "3  2024-01-01  04:00:00          24.0726  V ugm-3\n",
              "4  2024-01-01  05:00:00         17.06198  V ugm-3"
            ],
            "text/html": [
              "\n",
              "  <div id=\"df-865958c0-dbed-4936-9bb9-a1842fc61fa8\" class=\"colab-df-container\">\n",
              "    <div>\n",
              "<style scoped>\n",
              "    .dataframe tbody tr th:only-of-type {\n",
              "        vertical-align: middle;\n",
              "    }\n",
              "\n",
              "    .dataframe tbody tr th {\n",
              "        vertical-align: top;\n",
              "    }\n",
              "\n",
              "    .dataframe thead th {\n",
              "        text-align: right;\n",
              "    }\n",
              "</style>\n",
              "<table border=\"1\" class=\"dataframe\">\n",
              "  <thead>\n",
              "    <tr style=\"text-align: right;\">\n",
              "      <th></th>\n",
              "      <th>Date</th>\n",
              "      <th>Time</th>\n",
              "      <th>Nitrogen dioxide</th>\n",
              "      <th>Status</th>\n",
              "    </tr>\n",
              "  </thead>\n",
              "  <tbody>\n",
              "    <tr>\n",
              "      <th>0</th>\n",
              "      <td>2024-01-01</td>\n",
              "      <td>01:00:00</td>\n",
              "      <td>50.03395</td>\n",
              "      <td>V ugm-3</td>\n",
              "    </tr>\n",
              "    <tr>\n",
              "      <th>1</th>\n",
              "      <td>2024-01-01</td>\n",
              "      <td>02:00:00</td>\n",
              "      <td>53.74124</td>\n",
              "      <td>V ugm-3</td>\n",
              "    </tr>\n",
              "    <tr>\n",
              "      <th>2</th>\n",
              "      <td>2024-01-01</td>\n",
              "      <td>03:00:00</td>\n",
              "      <td>44.99584</td>\n",
              "      <td>V ugm-3</td>\n",
              "    </tr>\n",
              "    <tr>\n",
              "      <th>3</th>\n",
              "      <td>2024-01-01</td>\n",
              "      <td>04:00:00</td>\n",
              "      <td>24.0726</td>\n",
              "      <td>V ugm-3</td>\n",
              "    </tr>\n",
              "    <tr>\n",
              "      <th>4</th>\n",
              "      <td>2024-01-01</td>\n",
              "      <td>05:00:00</td>\n",
              "      <td>17.06198</td>\n",
              "      <td>V ugm-3</td>\n",
              "    </tr>\n",
              "  </tbody>\n",
              "</table>\n",
              "</div>\n",
              "    <div class=\"colab-df-buttons\">\n",
              "\n",
              "  <div class=\"colab-df-container\">\n",
              "    <button class=\"colab-df-convert\" onclick=\"convertToInteractive('df-865958c0-dbed-4936-9bb9-a1842fc61fa8')\"\n",
              "            title=\"Convert this dataframe to an interactive table.\"\n",
              "            style=\"display:none;\">\n",
              "\n",
              "  <svg xmlns=\"http://www.w3.org/2000/svg\" height=\"24px\" viewBox=\"0 -960 960 960\">\n",
              "    <path d=\"M120-120v-720h720v720H120Zm60-500h600v-160H180v160Zm220 220h160v-160H400v160Zm0 220h160v-160H400v160ZM180-400h160v-160H180v160Zm440 0h160v-160H620v160ZM180-180h160v-160H180v160Zm440 0h160v-160H620v160Z\"/>\n",
              "  </svg>\n",
              "    </button>\n",
              "\n",
              "  <style>\n",
              "    .colab-df-container {\n",
              "      display:flex;\n",
              "      gap: 12px;\n",
              "    }\n",
              "\n",
              "    .colab-df-convert {\n",
              "      background-color: #E8F0FE;\n",
              "      border: none;\n",
              "      border-radius: 50%;\n",
              "      cursor: pointer;\n",
              "      display: none;\n",
              "      fill: #1967D2;\n",
              "      height: 32px;\n",
              "      padding: 0 0 0 0;\n",
              "      width: 32px;\n",
              "    }\n",
              "\n",
              "    .colab-df-convert:hover {\n",
              "      background-color: #E2EBFA;\n",
              "      box-shadow: 0px 1px 2px rgba(60, 64, 67, 0.3), 0px 1px 3px 1px rgba(60, 64, 67, 0.15);\n",
              "      fill: #174EA6;\n",
              "    }\n",
              "\n",
              "    .colab-df-buttons div {\n",
              "      margin-bottom: 4px;\n",
              "    }\n",
              "\n",
              "    [theme=dark] .colab-df-convert {\n",
              "      background-color: #3B4455;\n",
              "      fill: #D2E3FC;\n",
              "    }\n",
              "\n",
              "    [theme=dark] .colab-df-convert:hover {\n",
              "      background-color: #434B5C;\n",
              "      box-shadow: 0px 1px 3px 1px rgba(0, 0, 0, 0.15);\n",
              "      filter: drop-shadow(0px 1px 2px rgba(0, 0, 0, 0.3));\n",
              "      fill: #FFFFFF;\n",
              "    }\n",
              "  </style>\n",
              "\n",
              "    <script>\n",
              "      const buttonEl =\n",
              "        document.querySelector('#df-865958c0-dbed-4936-9bb9-a1842fc61fa8 button.colab-df-convert');\n",
              "      buttonEl.style.display =\n",
              "        google.colab.kernel.accessAllowed ? 'block' : 'none';\n",
              "\n",
              "      async function convertToInteractive(key) {\n",
              "        const element = document.querySelector('#df-865958c0-dbed-4936-9bb9-a1842fc61fa8');\n",
              "        const dataTable =\n",
              "          await google.colab.kernel.invokeFunction('convertToInteractive',\n",
              "                                                    [key], {});\n",
              "        if (!dataTable) return;\n",
              "\n",
              "        const docLinkHtml = 'Like what you see? Visit the ' +\n",
              "          '<a target=\"_blank\" href=https://colab.research.google.com/notebooks/data_table.ipynb>data table notebook</a>'\n",
              "          + ' to learn more about interactive tables.';\n",
              "        element.innerHTML = '';\n",
              "        dataTable['output_type'] = 'display_data';\n",
              "        await google.colab.output.renderOutput(dataTable, element);\n",
              "        const docLink = document.createElement('div');\n",
              "        docLink.innerHTML = docLinkHtml;\n",
              "        element.appendChild(docLink);\n",
              "      }\n",
              "    </script>\n",
              "  </div>\n",
              "\n",
              "\n",
              "<div id=\"df-f1fb02c1-e445-4982-93f2-386646954355\">\n",
              "  <button class=\"colab-df-quickchart\" onclick=\"quickchart('df-f1fb02c1-e445-4982-93f2-386646954355')\"\n",
              "            title=\"Suggest charts\"\n",
              "            style=\"display:none;\">\n",
              "\n",
              "<svg xmlns=\"http://www.w3.org/2000/svg\" height=\"24px\"viewBox=\"0 0 24 24\"\n",
              "     width=\"24px\">\n",
              "    <g>\n",
              "        <path d=\"M19 3H5c-1.1 0-2 .9-2 2v14c0 1.1.9 2 2 2h14c1.1 0 2-.9 2-2V5c0-1.1-.9-2-2-2zM9 17H7v-7h2v7zm4 0h-2V7h2v10zm4 0h-2v-4h2v4z\"/>\n",
              "    </g>\n",
              "</svg>\n",
              "  </button>\n",
              "\n",
              "<style>\n",
              "  .colab-df-quickchart {\n",
              "      --bg-color: #E8F0FE;\n",
              "      --fill-color: #1967D2;\n",
              "      --hover-bg-color: #E2EBFA;\n",
              "      --hover-fill-color: #174EA6;\n",
              "      --disabled-fill-color: #AAA;\n",
              "      --disabled-bg-color: #DDD;\n",
              "  }\n",
              "\n",
              "  [theme=dark] .colab-df-quickchart {\n",
              "      --bg-color: #3B4455;\n",
              "      --fill-color: #D2E3FC;\n",
              "      --hover-bg-color: #434B5C;\n",
              "      --hover-fill-color: #FFFFFF;\n",
              "      --disabled-bg-color: #3B4455;\n",
              "      --disabled-fill-color: #666;\n",
              "  }\n",
              "\n",
              "  .colab-df-quickchart {\n",
              "    background-color: var(--bg-color);\n",
              "    border: none;\n",
              "    border-radius: 50%;\n",
              "    cursor: pointer;\n",
              "    display: none;\n",
              "    fill: var(--fill-color);\n",
              "    height: 32px;\n",
              "    padding: 0;\n",
              "    width: 32px;\n",
              "  }\n",
              "\n",
              "  .colab-df-quickchart:hover {\n",
              "    background-color: var(--hover-bg-color);\n",
              "    box-shadow: 0 1px 2px rgba(60, 64, 67, 0.3), 0 1px 3px 1px rgba(60, 64, 67, 0.15);\n",
              "    fill: var(--button-hover-fill-color);\n",
              "  }\n",
              "\n",
              "  .colab-df-quickchart-complete:disabled,\n",
              "  .colab-df-quickchart-complete:disabled:hover {\n",
              "    background-color: var(--disabled-bg-color);\n",
              "    fill: var(--disabled-fill-color);\n",
              "    box-shadow: none;\n",
              "  }\n",
              "\n",
              "  .colab-df-spinner {\n",
              "    border: 2px solid var(--fill-color);\n",
              "    border-color: transparent;\n",
              "    border-bottom-color: var(--fill-color);\n",
              "    animation:\n",
              "      spin 1s steps(1) infinite;\n",
              "  }\n",
              "\n",
              "  @keyframes spin {\n",
              "    0% {\n",
              "      border-color: transparent;\n",
              "      border-bottom-color: var(--fill-color);\n",
              "      border-left-color: var(--fill-color);\n",
              "    }\n",
              "    20% {\n",
              "      border-color: transparent;\n",
              "      border-left-color: var(--fill-color);\n",
              "      border-top-color: var(--fill-color);\n",
              "    }\n",
              "    30% {\n",
              "      border-color: transparent;\n",
              "      border-left-color: var(--fill-color);\n",
              "      border-top-color: var(--fill-color);\n",
              "      border-right-color: var(--fill-color);\n",
              "    }\n",
              "    40% {\n",
              "      border-color: transparent;\n",
              "      border-right-color: var(--fill-color);\n",
              "      border-top-color: var(--fill-color);\n",
              "    }\n",
              "    60% {\n",
              "      border-color: transparent;\n",
              "      border-right-color: var(--fill-color);\n",
              "    }\n",
              "    80% {\n",
              "      border-color: transparent;\n",
              "      border-right-color: var(--fill-color);\n",
              "      border-bottom-color: var(--fill-color);\n",
              "    }\n",
              "    90% {\n",
              "      border-color: transparent;\n",
              "      border-bottom-color: var(--fill-color);\n",
              "    }\n",
              "  }\n",
              "</style>\n",
              "\n",
              "  <script>\n",
              "    async function quickchart(key) {\n",
              "      const quickchartButtonEl =\n",
              "        document.querySelector('#' + key + ' button');\n",
              "      quickchartButtonEl.disabled = true;  // To prevent multiple clicks.\n",
              "      quickchartButtonEl.classList.add('colab-df-spinner');\n",
              "      try {\n",
              "        const charts = await google.colab.kernel.invokeFunction(\n",
              "            'suggestCharts', [key], {});\n",
              "      } catch (error) {\n",
              "        console.error('Error during call to suggestCharts:', error);\n",
              "      }\n",
              "      quickchartButtonEl.classList.remove('colab-df-spinner');\n",
              "      quickchartButtonEl.classList.add('colab-df-quickchart-complete');\n",
              "    }\n",
              "    (() => {\n",
              "      let quickchartButtonEl =\n",
              "        document.querySelector('#df-f1fb02c1-e445-4982-93f2-386646954355 button');\n",
              "      quickchartButtonEl.style.display =\n",
              "        google.colab.kernel.accessAllowed ? 'block' : 'none';\n",
              "    })();\n",
              "  </script>\n",
              "</div>\n",
              "\n",
              "    </div>\n",
              "  </div>\n"
            ],
            "application/vnd.google.colaboratory.intrinsic+json": {
              "type": "dataframe",
              "summary": "{\n  \"name\": \"investigation = investigate_data(air_quality)\",\n  \"rows\": 5,\n  \"fields\": [\n    {\n      \"column\": \"Date\",\n      \"properties\": {\n        \"dtype\": \"object\",\n        \"num_unique_values\": 1,\n        \"samples\": [\n          \"2024-01-01\"\n        ],\n        \"semantic_type\": \"\",\n        \"description\": \"\"\n      }\n    },\n    {\n      \"column\": \"Time\",\n      \"properties\": {\n        \"dtype\": \"object\",\n        \"num_unique_values\": 5,\n        \"samples\": [\n          \"02:00:00\"\n        ],\n        \"semantic_type\": \"\",\n        \"description\": \"\"\n      }\n    },\n    {\n      \"column\": \"Nitrogen dioxide\",\n      \"properties\": {\n        \"dtype\": \"string\",\n        \"num_unique_values\": 5,\n        \"samples\": [\n          \"53.74124\"\n        ],\n        \"semantic_type\": \"\",\n        \"description\": \"\"\n      }\n    },\n    {\n      \"column\": \"Status\",\n      \"properties\": {\n        \"dtype\": \"category\",\n        \"num_unique_values\": 1,\n        \"samples\": [\n          \"V ugm-3\"\n        ],\n        \"semantic_type\": \"\",\n        \"description\": \"\"\n      }\n    }\n  ]\n}"
            }
          },
          "metadata": {}
        },
        {
          "output_type": "stream",
          "name": "stdout",
          "text": [
            "['V ugm-3' 'P ugm-3']\n"
          ]
        }
      ]
    },
    {
      "cell_type": "markdown",
      "source": [
        "###Cleaning\n",
        "From this investigation we can see that there are no null values. The status column shows whether the measurement is verified, provisionally verified, not verified or suspect. By printing the unique values from the status column we can see that all are either verified or provisionally verified. For the purposes of this project we will accept the provisionally verified values as correct and drop that column as it is no longer needed. We can also see that all the columns contain dtype objects. This is not very useful for performing calculations so we will convert the Nitrogen Dioxide column into a float column.\n",
        "\n",
        "In the process of doing this we have discovered that 140 values in the Nitrogen Dioxide column are 'No data', so in fact there are some missing values although they are not recognised as null by Pandas. We will drop the rows with 'No data'."
      ],
      "metadata": {
        "id": "tXi5LWhNfg1G"
      }
    },
    {
      "cell_type": "code",
      "source": [
        "def drop_column(df):\n",
        "  #drops the Status column as no longer needed\n",
        "  cols_to_drop = ['Status']\n",
        "  new_df = df.drop(columns=cols_to_drop)\n",
        "  display(new_df.head())\n",
        "  return new_df\n",
        "air_qualityV2 = drop_column(air_quality)"
      ],
      "metadata": {
        "colab": {
          "base_uri": "https://localhost:8080/",
          "height": 206
        },
        "id": "MGraD0NThZFY",
        "outputId": "ee25b4a4-79d9-4a27-c971-777e5b2bfd21"
      },
      "execution_count": 3,
      "outputs": [
        {
          "output_type": "display_data",
          "data": {
            "text/plain": [
              "         Date      Time Nitrogen dioxide\n",
              "0  2024-01-01  01:00:00         50.03395\n",
              "1  2024-01-01  02:00:00         53.74124\n",
              "2  2024-01-01  03:00:00         44.99584\n",
              "3  2024-01-01  04:00:00          24.0726\n",
              "4  2024-01-01  05:00:00         17.06198"
            ],
            "text/html": [
              "\n",
              "  <div id=\"df-48e1be7c-5866-4878-817f-a01c53aed869\" class=\"colab-df-container\">\n",
              "    <div>\n",
              "<style scoped>\n",
              "    .dataframe tbody tr th:only-of-type {\n",
              "        vertical-align: middle;\n",
              "    }\n",
              "\n",
              "    .dataframe tbody tr th {\n",
              "        vertical-align: top;\n",
              "    }\n",
              "\n",
              "    .dataframe thead th {\n",
              "        text-align: right;\n",
              "    }\n",
              "</style>\n",
              "<table border=\"1\" class=\"dataframe\">\n",
              "  <thead>\n",
              "    <tr style=\"text-align: right;\">\n",
              "      <th></th>\n",
              "      <th>Date</th>\n",
              "      <th>Time</th>\n",
              "      <th>Nitrogen dioxide</th>\n",
              "    </tr>\n",
              "  </thead>\n",
              "  <tbody>\n",
              "    <tr>\n",
              "      <th>0</th>\n",
              "      <td>2024-01-01</td>\n",
              "      <td>01:00:00</td>\n",
              "      <td>50.03395</td>\n",
              "    </tr>\n",
              "    <tr>\n",
              "      <th>1</th>\n",
              "      <td>2024-01-01</td>\n",
              "      <td>02:00:00</td>\n",
              "      <td>53.74124</td>\n",
              "    </tr>\n",
              "    <tr>\n",
              "      <th>2</th>\n",
              "      <td>2024-01-01</td>\n",
              "      <td>03:00:00</td>\n",
              "      <td>44.99584</td>\n",
              "    </tr>\n",
              "    <tr>\n",
              "      <th>3</th>\n",
              "      <td>2024-01-01</td>\n",
              "      <td>04:00:00</td>\n",
              "      <td>24.0726</td>\n",
              "    </tr>\n",
              "    <tr>\n",
              "      <th>4</th>\n",
              "      <td>2024-01-01</td>\n",
              "      <td>05:00:00</td>\n",
              "      <td>17.06198</td>\n",
              "    </tr>\n",
              "  </tbody>\n",
              "</table>\n",
              "</div>\n",
              "    <div class=\"colab-df-buttons\">\n",
              "\n",
              "  <div class=\"colab-df-container\">\n",
              "    <button class=\"colab-df-convert\" onclick=\"convertToInteractive('df-48e1be7c-5866-4878-817f-a01c53aed869')\"\n",
              "            title=\"Convert this dataframe to an interactive table.\"\n",
              "            style=\"display:none;\">\n",
              "\n",
              "  <svg xmlns=\"http://www.w3.org/2000/svg\" height=\"24px\" viewBox=\"0 -960 960 960\">\n",
              "    <path d=\"M120-120v-720h720v720H120Zm60-500h600v-160H180v160Zm220 220h160v-160H400v160Zm0 220h160v-160H400v160ZM180-400h160v-160H180v160Zm440 0h160v-160H620v160ZM180-180h160v-160H180v160Zm440 0h160v-160H620v160Z\"/>\n",
              "  </svg>\n",
              "    </button>\n",
              "\n",
              "  <style>\n",
              "    .colab-df-container {\n",
              "      display:flex;\n",
              "      gap: 12px;\n",
              "    }\n",
              "\n",
              "    .colab-df-convert {\n",
              "      background-color: #E8F0FE;\n",
              "      border: none;\n",
              "      border-radius: 50%;\n",
              "      cursor: pointer;\n",
              "      display: none;\n",
              "      fill: #1967D2;\n",
              "      height: 32px;\n",
              "      padding: 0 0 0 0;\n",
              "      width: 32px;\n",
              "    }\n",
              "\n",
              "    .colab-df-convert:hover {\n",
              "      background-color: #E2EBFA;\n",
              "      box-shadow: 0px 1px 2px rgba(60, 64, 67, 0.3), 0px 1px 3px 1px rgba(60, 64, 67, 0.15);\n",
              "      fill: #174EA6;\n",
              "    }\n",
              "\n",
              "    .colab-df-buttons div {\n",
              "      margin-bottom: 4px;\n",
              "    }\n",
              "\n",
              "    [theme=dark] .colab-df-convert {\n",
              "      background-color: #3B4455;\n",
              "      fill: #D2E3FC;\n",
              "    }\n",
              "\n",
              "    [theme=dark] .colab-df-convert:hover {\n",
              "      background-color: #434B5C;\n",
              "      box-shadow: 0px 1px 3px 1px rgba(0, 0, 0, 0.15);\n",
              "      filter: drop-shadow(0px 1px 2px rgba(0, 0, 0, 0.3));\n",
              "      fill: #FFFFFF;\n",
              "    }\n",
              "  </style>\n",
              "\n",
              "    <script>\n",
              "      const buttonEl =\n",
              "        document.querySelector('#df-48e1be7c-5866-4878-817f-a01c53aed869 button.colab-df-convert');\n",
              "      buttonEl.style.display =\n",
              "        google.colab.kernel.accessAllowed ? 'block' : 'none';\n",
              "\n",
              "      async function convertToInteractive(key) {\n",
              "        const element = document.querySelector('#df-48e1be7c-5866-4878-817f-a01c53aed869');\n",
              "        const dataTable =\n",
              "          await google.colab.kernel.invokeFunction('convertToInteractive',\n",
              "                                                    [key], {});\n",
              "        if (!dataTable) return;\n",
              "\n",
              "        const docLinkHtml = 'Like what you see? Visit the ' +\n",
              "          '<a target=\"_blank\" href=https://colab.research.google.com/notebooks/data_table.ipynb>data table notebook</a>'\n",
              "          + ' to learn more about interactive tables.';\n",
              "        element.innerHTML = '';\n",
              "        dataTable['output_type'] = 'display_data';\n",
              "        await google.colab.output.renderOutput(dataTable, element);\n",
              "        const docLink = document.createElement('div');\n",
              "        docLink.innerHTML = docLinkHtml;\n",
              "        element.appendChild(docLink);\n",
              "      }\n",
              "    </script>\n",
              "  </div>\n",
              "\n",
              "\n",
              "<div id=\"df-6cbd9f86-0062-4ae7-bdb8-81667adc23b6\">\n",
              "  <button class=\"colab-df-quickchart\" onclick=\"quickchart('df-6cbd9f86-0062-4ae7-bdb8-81667adc23b6')\"\n",
              "            title=\"Suggest charts\"\n",
              "            style=\"display:none;\">\n",
              "\n",
              "<svg xmlns=\"http://www.w3.org/2000/svg\" height=\"24px\"viewBox=\"0 0 24 24\"\n",
              "     width=\"24px\">\n",
              "    <g>\n",
              "        <path d=\"M19 3H5c-1.1 0-2 .9-2 2v14c0 1.1.9 2 2 2h14c1.1 0 2-.9 2-2V5c0-1.1-.9-2-2-2zM9 17H7v-7h2v7zm4 0h-2V7h2v10zm4 0h-2v-4h2v4z\"/>\n",
              "    </g>\n",
              "</svg>\n",
              "  </button>\n",
              "\n",
              "<style>\n",
              "  .colab-df-quickchart {\n",
              "      --bg-color: #E8F0FE;\n",
              "      --fill-color: #1967D2;\n",
              "      --hover-bg-color: #E2EBFA;\n",
              "      --hover-fill-color: #174EA6;\n",
              "      --disabled-fill-color: #AAA;\n",
              "      --disabled-bg-color: #DDD;\n",
              "  }\n",
              "\n",
              "  [theme=dark] .colab-df-quickchart {\n",
              "      --bg-color: #3B4455;\n",
              "      --fill-color: #D2E3FC;\n",
              "      --hover-bg-color: #434B5C;\n",
              "      --hover-fill-color: #FFFFFF;\n",
              "      --disabled-bg-color: #3B4455;\n",
              "      --disabled-fill-color: #666;\n",
              "  }\n",
              "\n",
              "  .colab-df-quickchart {\n",
              "    background-color: var(--bg-color);\n",
              "    border: none;\n",
              "    border-radius: 50%;\n",
              "    cursor: pointer;\n",
              "    display: none;\n",
              "    fill: var(--fill-color);\n",
              "    height: 32px;\n",
              "    padding: 0;\n",
              "    width: 32px;\n",
              "  }\n",
              "\n",
              "  .colab-df-quickchart:hover {\n",
              "    background-color: var(--hover-bg-color);\n",
              "    box-shadow: 0 1px 2px rgba(60, 64, 67, 0.3), 0 1px 3px 1px rgba(60, 64, 67, 0.15);\n",
              "    fill: var(--button-hover-fill-color);\n",
              "  }\n",
              "\n",
              "  .colab-df-quickchart-complete:disabled,\n",
              "  .colab-df-quickchart-complete:disabled:hover {\n",
              "    background-color: var(--disabled-bg-color);\n",
              "    fill: var(--disabled-fill-color);\n",
              "    box-shadow: none;\n",
              "  }\n",
              "\n",
              "  .colab-df-spinner {\n",
              "    border: 2px solid var(--fill-color);\n",
              "    border-color: transparent;\n",
              "    border-bottom-color: var(--fill-color);\n",
              "    animation:\n",
              "      spin 1s steps(1) infinite;\n",
              "  }\n",
              "\n",
              "  @keyframes spin {\n",
              "    0% {\n",
              "      border-color: transparent;\n",
              "      border-bottom-color: var(--fill-color);\n",
              "      border-left-color: var(--fill-color);\n",
              "    }\n",
              "    20% {\n",
              "      border-color: transparent;\n",
              "      border-left-color: var(--fill-color);\n",
              "      border-top-color: var(--fill-color);\n",
              "    }\n",
              "    30% {\n",
              "      border-color: transparent;\n",
              "      border-left-color: var(--fill-color);\n",
              "      border-top-color: var(--fill-color);\n",
              "      border-right-color: var(--fill-color);\n",
              "    }\n",
              "    40% {\n",
              "      border-color: transparent;\n",
              "      border-right-color: var(--fill-color);\n",
              "      border-top-color: var(--fill-color);\n",
              "    }\n",
              "    60% {\n",
              "      border-color: transparent;\n",
              "      border-right-color: var(--fill-color);\n",
              "    }\n",
              "    80% {\n",
              "      border-color: transparent;\n",
              "      border-right-color: var(--fill-color);\n",
              "      border-bottom-color: var(--fill-color);\n",
              "    }\n",
              "    90% {\n",
              "      border-color: transparent;\n",
              "      border-bottom-color: var(--fill-color);\n",
              "    }\n",
              "  }\n",
              "</style>\n",
              "\n",
              "  <script>\n",
              "    async function quickchart(key) {\n",
              "      const quickchartButtonEl =\n",
              "        document.querySelector('#' + key + ' button');\n",
              "      quickchartButtonEl.disabled = true;  // To prevent multiple clicks.\n",
              "      quickchartButtonEl.classList.add('colab-df-spinner');\n",
              "      try {\n",
              "        const charts = await google.colab.kernel.invokeFunction(\n",
              "            'suggestCharts', [key], {});\n",
              "      } catch (error) {\n",
              "        console.error('Error during call to suggestCharts:', error);\n",
              "      }\n",
              "      quickchartButtonEl.classList.remove('colab-df-spinner');\n",
              "      quickchartButtonEl.classList.add('colab-df-quickchart-complete');\n",
              "    }\n",
              "    (() => {\n",
              "      let quickchartButtonEl =\n",
              "        document.querySelector('#df-6cbd9f86-0062-4ae7-bdb8-81667adc23b6 button');\n",
              "      quickchartButtonEl.style.display =\n",
              "        google.colab.kernel.accessAllowed ? 'block' : 'none';\n",
              "    })();\n",
              "  </script>\n",
              "</div>\n",
              "\n",
              "    </div>\n",
              "  </div>\n"
            ],
            "application/vnd.google.colaboratory.intrinsic+json": {
              "type": "dataframe",
              "summary": "{\n  \"name\": \"air_qualityV2 = drop_column(air_quality)\",\n  \"rows\": 5,\n  \"fields\": [\n    {\n      \"column\": \"Date\",\n      \"properties\": {\n        \"dtype\": \"object\",\n        \"num_unique_values\": 1,\n        \"samples\": [\n          \"2024-01-01\"\n        ],\n        \"semantic_type\": \"\",\n        \"description\": \"\"\n      }\n    },\n    {\n      \"column\": \"Time\",\n      \"properties\": {\n        \"dtype\": \"object\",\n        \"num_unique_values\": 5,\n        \"samples\": [\n          \"02:00:00\"\n        ],\n        \"semantic_type\": \"\",\n        \"description\": \"\"\n      }\n    },\n    {\n      \"column\": \"Nitrogen dioxide\",\n      \"properties\": {\n        \"dtype\": \"string\",\n        \"num_unique_values\": 5,\n        \"samples\": [\n          \"53.74124\"\n        ],\n        \"semantic_type\": \"\",\n        \"description\": \"\"\n      }\n    }\n  ]\n}"
            }
          },
          "metadata": {}
        }
      ]
    },
    {
      "cell_type": "code",
      "source": [
        "def drop_nodata(df):\n",
        "  #drops rows with 'No data' in the nitrogen dioxide column\n",
        "  index_names = df[ df['Nitrogen dioxide'] == \"No data\" ].index\n",
        "  df.drop(index_names, inplace = True)\n",
        "  df.info()\n",
        "  return df\n",
        "air_qualityV3 = drop_nodata(air_qualityV2)"
      ],
      "metadata": {
        "colab": {
          "base_uri": "https://localhost:8080/"
        },
        "id": "YBCcaZByM8IB",
        "outputId": "84adaa77-c999-4c6f-e45c-b64a144a1ffb"
      },
      "execution_count": 4,
      "outputs": [
        {
          "output_type": "stream",
          "name": "stdout",
          "text": [
            "<class 'pandas.core.frame.DataFrame'>\n",
            "Index: 8644 entries, 0 to 8783\n",
            "Data columns (total 3 columns):\n",
            " #   Column            Non-Null Count  Dtype \n",
            "---  ------            --------------  ----- \n",
            " 0   Date              8644 non-null   object\n",
            " 1   Time              8644 non-null   object\n",
            " 2   Nitrogen dioxide  8644 non-null   object\n",
            "dtypes: object(3)\n",
            "memory usage: 270.1+ KB\n"
          ]
        }
      ]
    },
    {
      "cell_type": "code",
      "source": [
        "def convert_column(df):\n",
        "  df['Nitrogen dioxide'] = df['Nitrogen dioxide'].astype(float)\n",
        "  # converts the column to float\n",
        "  df.info()\n",
        "  return df\n",
        "air_qualityV4 = convert_column(air_qualityV3)\n"
      ],
      "metadata": {
        "colab": {
          "base_uri": "https://localhost:8080/"
        },
        "id": "69Dgs5JVxAHI",
        "outputId": "2dc0a433-1af6-4d15-de2f-3b0ef9941371"
      },
      "execution_count": 5,
      "outputs": [
        {
          "output_type": "stream",
          "name": "stdout",
          "text": [
            "<class 'pandas.core.frame.DataFrame'>\n",
            "Index: 8644 entries, 0 to 8783\n",
            "Data columns (total 3 columns):\n",
            " #   Column            Non-Null Count  Dtype  \n",
            "---  ------            --------------  -----  \n",
            " 0   Date              8644 non-null   object \n",
            " 1   Time              8644 non-null   object \n",
            " 2   Nitrogen dioxide  8644 non-null   float64\n",
            "dtypes: float64(1), object(2)\n",
            "memory usage: 270.1+ KB\n"
          ]
        }
      ]
    },
    {
      "cell_type": "markdown",
      "source": [
        "###Extracting\n",
        "We need to extract the day of the week from the date and add this as a new column. In order to do this we must first convert the date into a datetime object and from there we extract the day of the week. We can also extract the month for future use. The conversion column is no longer needed and can be dropped. We will save this new version of the dataframe to csv."
      ],
      "metadata": {
        "id": "JVyrD9PSipZg"
      }
    },
    {
      "cell_type": "code",
      "source": [
        "def get_weekday(df, column_name):\n",
        "  df['conversion'] = pd.to_datetime(df[column_name])\n",
        "  df[\"Day\"] = df['conversion'].dt.day_name()\n",
        "  df[\"Month\"] = df['conversion'].dt.month_name()\n",
        "  cols_to_drop = ['conversion']\n",
        "  new_df = df.drop(columns=cols_to_drop)\n",
        "  display(new_df.head())\n",
        "  new_df.to_csv('air_qualityV5.csv')\n",
        "  return new_df\n",
        "air_qualityV5 = get_weekday(air_qualityV4, \"Date\")"
      ],
      "metadata": {
        "colab": {
          "base_uri": "https://localhost:8080/",
          "height": 206
        },
        "id": "XaMBPoy9U4-P",
        "outputId": "1f5e4752-511b-4ccb-9b40-2df82e9a5f20"
      },
      "execution_count": 6,
      "outputs": [
        {
          "output_type": "display_data",
          "data": {
            "text/plain": [
              "         Date      Time  Nitrogen dioxide     Day    Month\n",
              "0  2024-01-01  01:00:00          50.03395  Monday  January\n",
              "1  2024-01-01  02:00:00          53.74124  Monday  January\n",
              "2  2024-01-01  03:00:00          44.99584  Monday  January\n",
              "3  2024-01-01  04:00:00          24.07260  Monday  January\n",
              "4  2024-01-01  05:00:00          17.06198  Monday  January"
            ],
            "text/html": [
              "\n",
              "  <div id=\"df-396a532e-a9e4-470e-8d00-dac8e90f37dc\" class=\"colab-df-container\">\n",
              "    <div>\n",
              "<style scoped>\n",
              "    .dataframe tbody tr th:only-of-type {\n",
              "        vertical-align: middle;\n",
              "    }\n",
              "\n",
              "    .dataframe tbody tr th {\n",
              "        vertical-align: top;\n",
              "    }\n",
              "\n",
              "    .dataframe thead th {\n",
              "        text-align: right;\n",
              "    }\n",
              "</style>\n",
              "<table border=\"1\" class=\"dataframe\">\n",
              "  <thead>\n",
              "    <tr style=\"text-align: right;\">\n",
              "      <th></th>\n",
              "      <th>Date</th>\n",
              "      <th>Time</th>\n",
              "      <th>Nitrogen dioxide</th>\n",
              "      <th>Day</th>\n",
              "      <th>Month</th>\n",
              "    </tr>\n",
              "  </thead>\n",
              "  <tbody>\n",
              "    <tr>\n",
              "      <th>0</th>\n",
              "      <td>2024-01-01</td>\n",
              "      <td>01:00:00</td>\n",
              "      <td>50.03395</td>\n",
              "      <td>Monday</td>\n",
              "      <td>January</td>\n",
              "    </tr>\n",
              "    <tr>\n",
              "      <th>1</th>\n",
              "      <td>2024-01-01</td>\n",
              "      <td>02:00:00</td>\n",
              "      <td>53.74124</td>\n",
              "      <td>Monday</td>\n",
              "      <td>January</td>\n",
              "    </tr>\n",
              "    <tr>\n",
              "      <th>2</th>\n",
              "      <td>2024-01-01</td>\n",
              "      <td>03:00:00</td>\n",
              "      <td>44.99584</td>\n",
              "      <td>Monday</td>\n",
              "      <td>January</td>\n",
              "    </tr>\n",
              "    <tr>\n",
              "      <th>3</th>\n",
              "      <td>2024-01-01</td>\n",
              "      <td>04:00:00</td>\n",
              "      <td>24.07260</td>\n",
              "      <td>Monday</td>\n",
              "      <td>January</td>\n",
              "    </tr>\n",
              "    <tr>\n",
              "      <th>4</th>\n",
              "      <td>2024-01-01</td>\n",
              "      <td>05:00:00</td>\n",
              "      <td>17.06198</td>\n",
              "      <td>Monday</td>\n",
              "      <td>January</td>\n",
              "    </tr>\n",
              "  </tbody>\n",
              "</table>\n",
              "</div>\n",
              "    <div class=\"colab-df-buttons\">\n",
              "\n",
              "  <div class=\"colab-df-container\">\n",
              "    <button class=\"colab-df-convert\" onclick=\"convertToInteractive('df-396a532e-a9e4-470e-8d00-dac8e90f37dc')\"\n",
              "            title=\"Convert this dataframe to an interactive table.\"\n",
              "            style=\"display:none;\">\n",
              "\n",
              "  <svg xmlns=\"http://www.w3.org/2000/svg\" height=\"24px\" viewBox=\"0 -960 960 960\">\n",
              "    <path d=\"M120-120v-720h720v720H120Zm60-500h600v-160H180v160Zm220 220h160v-160H400v160Zm0 220h160v-160H400v160ZM180-400h160v-160H180v160Zm440 0h160v-160H620v160ZM180-180h160v-160H180v160Zm440 0h160v-160H620v160Z\"/>\n",
              "  </svg>\n",
              "    </button>\n",
              "\n",
              "  <style>\n",
              "    .colab-df-container {\n",
              "      display:flex;\n",
              "      gap: 12px;\n",
              "    }\n",
              "\n",
              "    .colab-df-convert {\n",
              "      background-color: #E8F0FE;\n",
              "      border: none;\n",
              "      border-radius: 50%;\n",
              "      cursor: pointer;\n",
              "      display: none;\n",
              "      fill: #1967D2;\n",
              "      height: 32px;\n",
              "      padding: 0 0 0 0;\n",
              "      width: 32px;\n",
              "    }\n",
              "\n",
              "    .colab-df-convert:hover {\n",
              "      background-color: #E2EBFA;\n",
              "      box-shadow: 0px 1px 2px rgba(60, 64, 67, 0.3), 0px 1px 3px 1px rgba(60, 64, 67, 0.15);\n",
              "      fill: #174EA6;\n",
              "    }\n",
              "\n",
              "    .colab-df-buttons div {\n",
              "      margin-bottom: 4px;\n",
              "    }\n",
              "\n",
              "    [theme=dark] .colab-df-convert {\n",
              "      background-color: #3B4455;\n",
              "      fill: #D2E3FC;\n",
              "    }\n",
              "\n",
              "    [theme=dark] .colab-df-convert:hover {\n",
              "      background-color: #434B5C;\n",
              "      box-shadow: 0px 1px 3px 1px rgba(0, 0, 0, 0.15);\n",
              "      filter: drop-shadow(0px 1px 2px rgba(0, 0, 0, 0.3));\n",
              "      fill: #FFFFFF;\n",
              "    }\n",
              "  </style>\n",
              "\n",
              "    <script>\n",
              "      const buttonEl =\n",
              "        document.querySelector('#df-396a532e-a9e4-470e-8d00-dac8e90f37dc button.colab-df-convert');\n",
              "      buttonEl.style.display =\n",
              "        google.colab.kernel.accessAllowed ? 'block' : 'none';\n",
              "\n",
              "      async function convertToInteractive(key) {\n",
              "        const element = document.querySelector('#df-396a532e-a9e4-470e-8d00-dac8e90f37dc');\n",
              "        const dataTable =\n",
              "          await google.colab.kernel.invokeFunction('convertToInteractive',\n",
              "                                                    [key], {});\n",
              "        if (!dataTable) return;\n",
              "\n",
              "        const docLinkHtml = 'Like what you see? Visit the ' +\n",
              "          '<a target=\"_blank\" href=https://colab.research.google.com/notebooks/data_table.ipynb>data table notebook</a>'\n",
              "          + ' to learn more about interactive tables.';\n",
              "        element.innerHTML = '';\n",
              "        dataTable['output_type'] = 'display_data';\n",
              "        await google.colab.output.renderOutput(dataTable, element);\n",
              "        const docLink = document.createElement('div');\n",
              "        docLink.innerHTML = docLinkHtml;\n",
              "        element.appendChild(docLink);\n",
              "      }\n",
              "    </script>\n",
              "  </div>\n",
              "\n",
              "\n",
              "<div id=\"df-47837558-f87a-4088-be7a-d85574677c20\">\n",
              "  <button class=\"colab-df-quickchart\" onclick=\"quickchart('df-47837558-f87a-4088-be7a-d85574677c20')\"\n",
              "            title=\"Suggest charts\"\n",
              "            style=\"display:none;\">\n",
              "\n",
              "<svg xmlns=\"http://www.w3.org/2000/svg\" height=\"24px\"viewBox=\"0 0 24 24\"\n",
              "     width=\"24px\">\n",
              "    <g>\n",
              "        <path d=\"M19 3H5c-1.1 0-2 .9-2 2v14c0 1.1.9 2 2 2h14c1.1 0 2-.9 2-2V5c0-1.1-.9-2-2-2zM9 17H7v-7h2v7zm4 0h-2V7h2v10zm4 0h-2v-4h2v4z\"/>\n",
              "    </g>\n",
              "</svg>\n",
              "  </button>\n",
              "\n",
              "<style>\n",
              "  .colab-df-quickchart {\n",
              "      --bg-color: #E8F0FE;\n",
              "      --fill-color: #1967D2;\n",
              "      --hover-bg-color: #E2EBFA;\n",
              "      --hover-fill-color: #174EA6;\n",
              "      --disabled-fill-color: #AAA;\n",
              "      --disabled-bg-color: #DDD;\n",
              "  }\n",
              "\n",
              "  [theme=dark] .colab-df-quickchart {\n",
              "      --bg-color: #3B4455;\n",
              "      --fill-color: #D2E3FC;\n",
              "      --hover-bg-color: #434B5C;\n",
              "      --hover-fill-color: #FFFFFF;\n",
              "      --disabled-bg-color: #3B4455;\n",
              "      --disabled-fill-color: #666;\n",
              "  }\n",
              "\n",
              "  .colab-df-quickchart {\n",
              "    background-color: var(--bg-color);\n",
              "    border: none;\n",
              "    border-radius: 50%;\n",
              "    cursor: pointer;\n",
              "    display: none;\n",
              "    fill: var(--fill-color);\n",
              "    height: 32px;\n",
              "    padding: 0;\n",
              "    width: 32px;\n",
              "  }\n",
              "\n",
              "  .colab-df-quickchart:hover {\n",
              "    background-color: var(--hover-bg-color);\n",
              "    box-shadow: 0 1px 2px rgba(60, 64, 67, 0.3), 0 1px 3px 1px rgba(60, 64, 67, 0.15);\n",
              "    fill: var(--button-hover-fill-color);\n",
              "  }\n",
              "\n",
              "  .colab-df-quickchart-complete:disabled,\n",
              "  .colab-df-quickchart-complete:disabled:hover {\n",
              "    background-color: var(--disabled-bg-color);\n",
              "    fill: var(--disabled-fill-color);\n",
              "    box-shadow: none;\n",
              "  }\n",
              "\n",
              "  .colab-df-spinner {\n",
              "    border: 2px solid var(--fill-color);\n",
              "    border-color: transparent;\n",
              "    border-bottom-color: var(--fill-color);\n",
              "    animation:\n",
              "      spin 1s steps(1) infinite;\n",
              "  }\n",
              "\n",
              "  @keyframes spin {\n",
              "    0% {\n",
              "      border-color: transparent;\n",
              "      border-bottom-color: var(--fill-color);\n",
              "      border-left-color: var(--fill-color);\n",
              "    }\n",
              "    20% {\n",
              "      border-color: transparent;\n",
              "      border-left-color: var(--fill-color);\n",
              "      border-top-color: var(--fill-color);\n",
              "    }\n",
              "    30% {\n",
              "      border-color: transparent;\n",
              "      border-left-color: var(--fill-color);\n",
              "      border-top-color: var(--fill-color);\n",
              "      border-right-color: var(--fill-color);\n",
              "    }\n",
              "    40% {\n",
              "      border-color: transparent;\n",
              "      border-right-color: var(--fill-color);\n",
              "      border-top-color: var(--fill-color);\n",
              "    }\n",
              "    60% {\n",
              "      border-color: transparent;\n",
              "      border-right-color: var(--fill-color);\n",
              "    }\n",
              "    80% {\n",
              "      border-color: transparent;\n",
              "      border-right-color: var(--fill-color);\n",
              "      border-bottom-color: var(--fill-color);\n",
              "    }\n",
              "    90% {\n",
              "      border-color: transparent;\n",
              "      border-bottom-color: var(--fill-color);\n",
              "    }\n",
              "  }\n",
              "</style>\n",
              "\n",
              "  <script>\n",
              "    async function quickchart(key) {\n",
              "      const quickchartButtonEl =\n",
              "        document.querySelector('#' + key + ' button');\n",
              "      quickchartButtonEl.disabled = true;  // To prevent multiple clicks.\n",
              "      quickchartButtonEl.classList.add('colab-df-spinner');\n",
              "      try {\n",
              "        const charts = await google.colab.kernel.invokeFunction(\n",
              "            'suggestCharts', [key], {});\n",
              "      } catch (error) {\n",
              "        console.error('Error during call to suggestCharts:', error);\n",
              "      }\n",
              "      quickchartButtonEl.classList.remove('colab-df-spinner');\n",
              "      quickchartButtonEl.classList.add('colab-df-quickchart-complete');\n",
              "    }\n",
              "    (() => {\n",
              "      let quickchartButtonEl =\n",
              "        document.querySelector('#df-47837558-f87a-4088-be7a-d85574677c20 button');\n",
              "      quickchartButtonEl.style.display =\n",
              "        google.colab.kernel.accessAllowed ? 'block' : 'none';\n",
              "    })();\n",
              "  </script>\n",
              "</div>\n",
              "\n",
              "    </div>\n",
              "  </div>\n"
            ],
            "application/vnd.google.colaboratory.intrinsic+json": {
              "type": "dataframe",
              "summary": "{\n  \"name\": \"air_qualityV5 = get_weekday(air_qualityV4, \\\"Date\\\")\",\n  \"rows\": 5,\n  \"fields\": [\n    {\n      \"column\": \"Date\",\n      \"properties\": {\n        \"dtype\": \"object\",\n        \"num_unique_values\": 1,\n        \"samples\": [\n          \"2024-01-01\"\n        ],\n        \"semantic_type\": \"\",\n        \"description\": \"\"\n      }\n    },\n    {\n      \"column\": \"Time\",\n      \"properties\": {\n        \"dtype\": \"object\",\n        \"num_unique_values\": 5,\n        \"samples\": [\n          \"02:00:00\"\n        ],\n        \"semantic_type\": \"\",\n        \"description\": \"\"\n      }\n    },\n    {\n      \"column\": \"Nitrogen dioxide\",\n      \"properties\": {\n        \"dtype\": \"number\",\n        \"std\": 16.38532679740993,\n        \"min\": 17.06198,\n        \"max\": 53.74124,\n        \"num_unique_values\": 5,\n        \"samples\": [\n          53.74124\n        ],\n        \"semantic_type\": \"\",\n        \"description\": \"\"\n      }\n    },\n    {\n      \"column\": \"Day\",\n      \"properties\": {\n        \"dtype\": \"category\",\n        \"num_unique_values\": 1,\n        \"samples\": [\n          \"Monday\"\n        ],\n        \"semantic_type\": \"\",\n        \"description\": \"\"\n      }\n    },\n    {\n      \"column\": \"Month\",\n      \"properties\": {\n        \"dtype\": \"category\",\n        \"num_unique_values\": 1,\n        \"samples\": [\n          \"January\"\n        ],\n        \"semantic_type\": \"\",\n        \"description\": \"\"\n      }\n    }\n  ]\n}"
            }
          },
          "metadata": {}
        }
      ]
    },
    {
      "cell_type": "markdown",
      "source": [
        "## Analyse\n",
        "\n",
        "\n",
        "---\n",
        "\n"
      ],
      "metadata": {
        "id": "ucsYhp4Aae-E"
      }
    },
    {
      "cell_type": "code",
      "source": [
        "def explore_data (df):\n",
        "  print(df.describe())\n",
        "  print(df[\"Nitrogen dioxide\"].mean())\n",
        "explore_data(air_qualityV5)"
      ],
      "metadata": {
        "id": "LlNQ9LrzapLA",
        "colab": {
          "base_uri": "https://localhost:8080/"
        },
        "outputId": "65794cd4-4454-4acd-cc10-c95c56f9a45b"
      },
      "execution_count": 7,
      "outputs": [
        {
          "output_type": "stream",
          "name": "stdout",
          "text": [
            "       Nitrogen dioxide\n",
            "count       8644.000000\n",
            "mean          17.528466\n",
            "std           14.559750\n",
            "min           -0.224720\n",
            "25%            7.496165\n",
            "50%           12.822320\n",
            "75%           23.054110\n",
            "max          104.126350\n",
            "17.52846593359556\n"
          ]
        }
      ]
    },
    {
      "cell_type": "markdown",
      "source": [
        "###Summary statistics\n",
        "Now that the data is cleaned we can begin analysis. We have 8644 remaining nitrogen dioxide values to work with. We can see that the mean nitrogen dioxide level is 17.53. The maximum level is 104.13, which is labelled as low in the daily air quality index provided by Defra.  The minimum level is -0.22, which may indicate an error as it doesn't seem to make sense to have a negative reading in this data set. We can examine the data further to see if there are any outliers."
      ],
      "metadata": {
        "id": "bkYkO1xnP7yI"
      }
    },
    {
      "cell_type": "code",
      "source": [
        "def find_outliers(df):\n",
        "  nitrogen_dioxide = df[\"Nitrogen dioxide\"]\n",
        "  standard_deviation = np.std(nitrogen_dioxide)\n",
        "  #finds the standard deviation\n",
        "  mean = np.mean(nitrogen_dioxide)\n",
        "  #finds the mean\n",
        "  percentile_25 = np.percentile(nitrogen_dioxide, 25)\n",
        "  percentile_75 = np.percentile(nitrogen_dioxide, 75)\n",
        "  IQR = percentile_75 - percentile_25\n",
        "  #finds 25th and 75th percentiles in order to calculate interquartile range\n",
        "  too_high = mean + (2*standard_deviation)\n",
        "  #calculates the value beyond which we find outliers\n",
        "  print(\"Upper bound: \" + str(too_high))\n",
        "  filter = nitrogen_dioxide > too_high\n",
        "  #creates a filter which shows anything above too_high\n",
        "  upper_outliers_sd = nitrogen_dioxide[filter]\n",
        "  #applies the filter\n",
        "  print(\"Upper outliers by standard deviation: \" + str(upper_outliers_sd))\n",
        "  too_low = mean - (2*standard_deviation)\n",
        "  #creates a filter which shows anything above too_low\n",
        "  print(\"Lower bound: \" + str(too_low))\n",
        "  filter = nitrogen_dioxide < too_low\n",
        "  #creates a filter which shows anything above too_low\n",
        "  lower_outliers_sd = df[filter]\n",
        "  #applies the filter\n",
        "  print(\"Lower outliers by standard deviation: \" + str(lower_outliers_sd))\n",
        "  filter = nitrogen_dioxide > percentile_75 + (1.5*IQR)\n",
        "  #creates a filter which shows anything above the upper bound by IQR\n",
        "  upper_outliers_iqr = nitrogen_dioxide[filter]\n",
        "  #applies the filter\n",
        "  print(\"Upper outliers by interquartile range: \" + str(upper_outliers_iqr))\n",
        "  filter = nitrogen_dioxide < percentile_25 - (1.5*IQR)\n",
        "  #creates a filter which shows anything below the lower bound by IQR\n",
        "  lower_outliers_iqr = nitrogen_dioxide[filter]\n",
        "  #applies the filter\n",
        "  print(\"Lower outliers by interquartile range: \" + str(lower_outliers_iqr))\n",
        "\n",
        "\n",
        "find_outliers(air_qualityV5)"
      ],
      "metadata": {
        "colab": {
          "base_uri": "https://localhost:8080/"
        },
        "id": "VBjcAXRA32K-",
        "outputId": "468f929c-cccd-4718-f70c-da73d310a20c"
      },
      "execution_count": 10,
      "outputs": [
        {
          "output_type": "stream",
          "name": "stdout",
          "text": [
            "Upper bound: 46.646281588459836\n",
            "Upper outliers by standard deviation: 0       50.03395\n",
            "1       53.74124\n",
            "8       66.62428\n",
            "40      49.37447\n",
            "41      56.54198\n",
            "          ...   \n",
            "8579    58.81894\n",
            "8580    55.72451\n",
            "8586    57.38265\n",
            "8587    49.09196\n",
            "8588    66.33602\n",
            "Name: Nitrogen dioxide, Length: 517, dtype: float64\n",
            "Lower bound: -11.589349721268718\n",
            "Lower outliers by standard deviation: Empty DataFrame\n",
            "Columns: [Date, Time, Nitrogen dioxide, Day, Month]\n",
            "Index: []\n",
            "Upper outliers by interquartile range: 0       50.03395\n",
            "1       53.74124\n",
            "8       66.62428\n",
            "40      49.37447\n",
            "41      56.54198\n",
            "          ...   \n",
            "8580    55.72451\n",
            "8586    57.38265\n",
            "8587    49.09196\n",
            "8588    66.33602\n",
            "8752    46.39343\n",
            "Name: Nitrogen dioxide, Length: 524, dtype: float64\n",
            "Lower outliers by interquartile range: Series([], Name: Nitrogen dioxide, dtype: float64)\n"
          ]
        }
      ]
    },
    {
      "cell_type": "markdown",
      "source": [
        "###Outliers\n",
        "We can see that there are a large number of outliers in the upper range by both standard deviation and by interquartile range. However there are no outliers in the lower range."
      ],
      "metadata": {
        "id": "4b9cpK0G880C"
      }
    },
    {
      "cell_type": "code",
      "source": [
        "def create_histogram(df):\n",
        "  col_to_keep = [\"Nitrogen dioxide\"]\n",
        "  levels = df[col_to_keep]\n",
        "  plt.hist(levels)\n",
        "  plt.xlabel('Nitrogen dioxide')\n",
        "  plt.ylabel(\"Count\")\n",
        "  plt.show()\n",
        "create_histogram(air_qualityV5)"
      ],
      "metadata": {
        "colab": {
          "base_uri": "https://localhost:8080/",
          "height": 453
        },
        "id": "S3kJ-DVLN9cD",
        "outputId": "3d323776-8e5b-463b-8d62-8ac2d702540d"
      },
      "execution_count": null,
      "outputs": [
        {
          "output_type": "display_data",
          "data": {
            "text/plain": [
              "<Figure size 640x480 with 1 Axes>"
            ],
            "image/png": "[encoded data removed]"
          },
          "metadata": {}
        }
      ]
    },
    {
      "cell_type": "markdown",
      "source": [
        "###Frequency\n",
        "This histogram shows the frequency of nitrogen dioxide measurements. We can see that lower measurements are much more frequent than higher measurements."
      ],
      "metadata": {
        "id": "kNbroMtNaCAw"
      }
    },
    {
      "cell_type": "code",
      "source": [
        "def create_boxplot(df):\n",
        "  col_to_keep = [\"Nitrogen dioxide\"]\n",
        "  levels = df[col_to_keep]\n",
        "  plt.boxplot(levels)\n",
        "  plt.ylabel('Nitrogen dioxide')\n",
        "  plt.show()\n",
        "create_boxplot(air_qualityV5)"
      ],
      "metadata": {
        "colab": {
          "base_uri": "https://localhost:8080/",
          "height": 430
        },
        "id": "Iuat7JBvZHKC",
        "outputId": "b70ed0f5-5d34-408a-c845-87133e242b3d"
      },
      "execution_count": null,
      "outputs": [
        {
          "output_type": "display_data",
          "data": {
            "text/plain": [
              "<Figure size 640x480 with 1 Axes>"
            ],
            "image/png": "[encoded data removed]"
          },
          "metadata": {}
        }
      ]
    },
    {
      "cell_type": "markdown",
      "source": [
        "###Skew\n",
        "Similarly to the histogram, this boxplot shows that the data are skewed towards the lower levels of nitrogen dioxide. However we can also see quite a number of outliers beyond the upper whisker."
      ],
      "metadata": {
        "id": "-IGCIlHMZ31o"
      }
    },
    {
      "cell_type": "markdown",
      "source": [
        "###Frequency\n",
        "This histogram shows the frequency of nitrogen dioxide measurements. We can see that lower measurements are much more frequent than higher measurements."
      ],
      "metadata": {
        "id": "zplcztOWN8jq"
      }
    },
    {
      "cell_type": "code",
      "source": [
        "def create_day_graph(df):\n",
        "  days = df.groupby('Day')['Nitrogen dioxide'].mean()\n",
        "  labels = days.keys()\n",
        "  plt.bar(labels, days, color=\"teal\")\n",
        "  plt.xlabel(\"Day\")\n",
        "  plt.ylabel(\"Nitrogen dioxide levels\")\n",
        "  plt.xticks(rotation=90)\n",
        "  plt.show()\n",
        "create_day_graph(air_qualityV5)"
      ],
      "metadata": {
        "colab": {
          "base_uri": "https://localhost:8080/",
          "height": 516
        },
        "id": "TDmRCag3X1Vz",
        "outputId": "d4edff91-e8b2-48cd-c911-8c30cf660d8b"
      },
      "execution_count": null,
      "outputs": [
        {
          "output_type": "display_data",
          "data": {
            "text/plain": [
              "<Figure size 640x480 with 1 Axes>"
            ],
            "image/png": "[encoded data removed]"
          },
          "metadata": {}
        }
      ]
    },
    {
      "cell_type": "markdown",
      "source": [
        "###Nitrogen levels by day\n",
        "This bar graph shows mean nitrogen dioxide levels for each day of the week. We can see that Tuesday has the highest mean nitrogen dioxide level, with Wednesday and Thursday being close behind, while Sunday has the lowest. This suggests higher levels of traffic around midweek and lower at the weekend."
      ],
      "metadata": {
        "id": "8zN6ZSMWIPfH"
      }
    },
    {
      "cell_type": "code",
      "source": [
        "def create_time_graph(df):\n",
        "  time = df.groupby('Time')['Nitrogen dioxide'].mean()\n",
        "  labels = time.keys()\n",
        "  plt.barh(labels, time, color=\"fuchsia\")\n",
        "  plt.xlabel(\"Nitrogen dioxide levels\")\n",
        "  plt.ylabel(\"Time\")\n",
        "  plt.xticks(rotation=90)\n",
        "  plt.show()\n",
        "create_time_graph(air_qualityV5)"
      ],
      "metadata": {
        "colab": {
          "base_uri": "https://localhost:8080/",
          "height": 453
        },
        "id": "gNgtSBnIIqZ1",
        "outputId": "2061281a-eb50-48bb-dcfa-7705bc2162e0"
      },
      "execution_count": null,
      "outputs": [
        {
          "output_type": "display_data",
          "data": {
            "text/plain": [
              "<Figure size 640x480 with 1 Axes>"
            ],
            "image/png": "[encoded data removed]"
          },
          "metadata": {}
        }
      ]
    },
    {
      "cell_type": "markdown",
      "source": [
        "###Nitrogen levels by time\n",
        "This bar graph shows the mean nitrogen dioxide levels for each hour across 24 hours. As we might expect, levels are lowest between 1am and 6am when traffic is likely to be light. They become higher from 7am to 11am when people are likely to be travelling to workplaces, to school and university, with the highest mean value at 9am. They peak at around 6pm to 7pm, remaining on the higher side until 11pm. This suggests that traffic is not only heavier during traditional rush hour times, but also later in the evening, reflecting the area's active nightlife."
      ],
      "metadata": {
        "id": "Xt_WfCHKJQoz"
      }
    },
    {
      "cell_type": "code",
      "source": [
        "def create_month_graph(df):\n",
        "  months = df.groupby('Month')['Nitrogen dioxide'].mean()\n",
        "  labels = months.keys()\n",
        "  plt.barh(labels, months, color=\"cornflowerblue\")\n",
        "  plt.xlabel(\"Nitrogen dioxide levels\")\n",
        "  plt.ylabel(\"Month\")\n",
        "  plt.xticks(rotation=90)\n",
        "  plt.show()\n",
        "create_month_graph(air_qualityV5)"
      ],
      "metadata": {
        "colab": {
          "base_uri": "https://localhost:8080/",
          "height": 453
        },
        "id": "lPrFFmNSMFWM",
        "outputId": "6924cf3a-0562-422b-c7aa-253746db8ee5"
      },
      "execution_count": null,
      "outputs": [
        {
          "output_type": "display_data",
          "data": {
            "text/plain": [
              "<Figure size 640x480 with 1 Axes>"
            ],
            "image/png": "[encoded data removed]"
          },
          "metadata": {}
        }
      ]
    },
    {
      "cell_type": "markdown",
      "source": [
        "###Nitrogen dioxide levels by month\n",
        "This bar graph shows the mean nitrogen dioxide levels for each month. January has the highest mean level, with November close behind. The summer months have lower levels. These patterns may represent a combination of higher vehicle use during winter and the area being quieter at certain times of year due to a reduction numbers of university students and staff."
      ],
      "metadata": {
        "id": "Uonxn5EaNCUY"
      }
    },
    {
      "cell_type": "markdown",
      "source": [
        "## Interpret and Visualise\n",
        "\n",
        "\n",
        "---\n",
        "\n"
      ],
      "metadata": {
        "id": "t-IprkKkaks9"
      }
    },
    {
      "cell_type": "markdown",
      "source": [
        "<img src=\"https://drive.google.com/uc?id=1JY8OMgEegSFuZjbtMneW64tdKpE54YZk\">\n"
      ],
      "metadata": {
        "id": "2aF1VEKAfpy0"
      }
    },
    {
      "cell_type": "markdown",
      "source": [
        "<img src=\"https://drive.google.com/uc?id=1rZWGqlrk2MTIiQVbaOovw2E6rDy_oqZ2\">"
      ],
      "metadata": {
        "id": "46MTsYnfhmT1"
      }
    },
    {
      "cell_type": "markdown",
      "source": [
        "<img src=\"https://drive.google.com/uc?id=1l2WNDbAw_W6ijN4RcVAWhJ9DLP33n3Yh\">\n"
      ],
      "metadata": {
        "id": "qyQSBHUthrqf"
      }
    },
    {
      "cell_type": "markdown",
      "source": [
        "<img src=\"https://drive.google.com/uc?id=1v1voCbwL72lTgyKvlZlPzvRnCQWqFugG\">\n"
      ],
      "metadata": {
        "id": "Y6bdkCrAh5up"
      }
    },
    {
      "cell_type": "markdown",
      "source": [
        "## Tell the Story\n",
        "\n",
        "\n",
        "\n",
        "---\n",
        "\n"
      ],
      "metadata": {
        "id": "e2weqIKeaoOE"
      }
    },
    {
      "cell_type": "markdown",
      "source": [
        "###Key findings\n",
        "We have seen that there are certain times of day, certain days of the week and certain months in which higher average nitrogen dioxide levels have been measured. These match our expectations in terms of when the road is likely to be busier - during morning and afternoon peak travel times, during winter when weather is likely to dissuade people from using active travel methods and on weekdays. This location also sees higher levels in the late evening, most likely due to the presence of pubs and restaurants nearby.\n",
        "\n",
        "For the individual, it is difficult to take any action based on this data. For example, children have to travel to school between 8 and 9am on winter weekdays even though levels are higher at that time. People with health conditions may be able to plan some journeys to avoid the times with the highest nitrogen dioxide levels, however it is not reasonable to expect them to travel in the early hours of the morning when levels are at their lowest. We should also note that the maximum level of nitrogen dioxide measured on a given day or time is noticeably higher than the average level, so traveling at a particular time doesn't guarantee experiencing a particular level of nitrogen dioxide. However, we may provide some reassurance that even the highest level measured is still considered low according to the Daily Air Quality Index.\n",
        "\n",
        "For local authorities, this may be an opportunity to look at how to decrease the levels of nitrogen dioxide at peak times. For example, is there a way of encouraging people to use active travel more during the winter? Perhaps by providing discounted fares on public transport or an awareness campaign. Public transport may also be contributing to the nitrogen dioxide depending on whether it is using electricity or fossil fuels, so this could be another area for local authorities to consider.\n",
        "\n",
        "There are a number of outliers in this data at the higher end of the levels measured. We can speculate that traffic was particularly heavy due to a local event or perhaps a traffic jam was caused by roadworks. It is possible that other data about traffic flow could provide more insight.\n",
        "\n",
        "###Next steps\n",
        "This project has taken a set of data showing measurements collected in one location. However the functions have been written in such a way that it should be possible to take other data sets from the same source and explore them in a similar way. It would be interesting to compare this urban setting with a rural setting for example, or a different street in Glasgow. Great Western Road is currently an area of expanding cycle lanes, so looking at data that is collected in the future could be a way of assessing the impact of this infrastructure."
      ],
      "metadata": {
        "id": "Vq3qXiDRfxWr"
      }
    },
    {
      "cell_type": "markdown",
      "source": [
        "## Evaluate the Process\n",
        "\n",
        "\n",
        "---\n",
        "\n"
      ],
      "metadata": {
        "id": "d_sOgyilatIK"
      }
    },
    {
      "cell_type": "markdown",
      "source": [
        "###Collecting the data\n",
        "This initial phase went well and it was nice to see accessible data on this topic.\n",
        "###Cleaning and extracting\n",
        "I had a lot of trouble with this. I didn't notice the 'no data' values in the nitrogen dioxide column until I tried to convert the values to float. I thought it would be easier to do this in Excel, which it was, but then when I tried to extract the weekday from this new version of the file it no longer worked. I then reverted back to dealing with the 'no data' values in Python instead. I tried to change them to NaN prior to dropping the rows but I couldn't get this to work so instead found a way of dropping them as they were. Having done this, the weekday extraction worked again.\n",
        "###Analysis\n",
        "Making bivariate charts was no problem but I struggled to think of univariate charts that would be meaningful to this project.\n",
        "###Interpret and visualise\n",
        "After feedback from my last project I was able to use a meaningful gradient in the colour of bars in a chart. I couldn't always figure out how to show items the way I wanted, for instance I would prefer the slicer to show days of the week in order. I was pleased that I was able to calculate outliers in Python and highlight them in Power BI as this was something I couldn't figure out in the previous group project.\n",
        "###Tell the story\n",
        "Summarising the results, writing about what they might mean and potential next steps is a part of the process I feel comfortable with. I am always thinking about how to report the results throughout the process so I am prepared with some ideas when I get to this section.\n"
      ],
      "metadata": {
        "id": "CZTB1yklfyXA"
      }
    }
  ]
}