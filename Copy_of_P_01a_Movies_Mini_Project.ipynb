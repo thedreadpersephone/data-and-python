{
  "nbformat": 4,
  "nbformat_minor": 0,
  "metadata": {
    "colab": {
      "provenance": [],
      "include_colab_link": true
    },
    "kernelspec": {
      "name": "python3",
      "display_name": "Python 3"
    },
    "language_info": {
      "name": "python"
    }
  },
  "cells": [
    {
      "cell_type": "markdown",
      "metadata": {
        "id": "view-in-github",
        "colab_type": "text"
      },
      "source": [
        "<a href=\"https://colab.research.google.com/github/thedreadpersephone/data-and-python/blob/main/Copy_of_P_01a_Movies_Mini_Project.ipynb\" target=\"_parent\"><img src=\"https://colab.research.google.com/assets/colab-badge.svg\" alt=\"Open In Colab\"/></a>"
      ]
    },
    {
      "cell_type": "markdown",
      "source": [
        "# Movies Mini Project\n",
        "\n",
        "\n",
        "---\n",
        "\n",
        "\n",
        "\n"
      ],
      "metadata": {
        "id": "p4J_O-vcXj2S"
      }
    },
    {
      "cell_type": "markdown",
      "source": [
        "## Define the Problem\n",
        "\n",
        "\n",
        "\n",
        "---\n",
        "\n"
      ],
      "metadata": {
        "id": "cTAxcqRSaQA_"
      }
    },
    {
      "cell_type": "markdown",
      "source": [
        "### The Problem\n",
        "\n",
        "Movies vary in popularity and a high-ranking film typically generates greater revenues and success for those involved.\n",
        "\n",
        "What factors affect a movie's ranking and are rankings generally increasing or decreasing over time?\n",
        "\n",
        "The Internet Movie Database (IMDB) collects information on films, including actors and production crew involved, the genre, year and rank. We can use this dataset to try and answer our question.\n",
        "\n",
        "If we are able to identify factors that high ranking movies have in common, we could predict which movies will be successful, based on this data."
      ],
      "metadata": {
        "id": "XwOFbS-veoIy"
      }
    },
    {
      "cell_type": "markdown",
      "source": [
        "## Collect the Data\n",
        "\n",
        "\n",
        "---"
      ],
      "metadata": {
        "id": "1laU9L8caXJn"
      }
    },
    {
      "cell_type": "markdown",
      "source": [
        "### Data Collection\n",
        "\n",
        "The [CTU Relational Dataset Repository](https://relational.fel.cvut.cz/) contains numerous SQL databases that can be queried, including one for The IMDB.\n",
        "\n",
        "Because there are thousands of people involved in the making of an individual movie, we will focus our analysis solely on the directors rather than the entire production team. We will also need to gather data on the genre, year and rank.\n",
        "\n",
        "In a separate notebook, we have queried the database for the relevant data, which has been converted into a single CSV file.\n",
        "\n",
        "Below, we import the packages required for this analysis, load the data and view the first five rows."
      ],
      "metadata": {
        "id": "XZR4_VVtfWa9"
      }
    },
    {
      "cell_type": "code",
      "source": [
        "import pandas as pd\n",
        "import numpy as np\n",
        "import matplotlib.pyplot as plt\n",
        "url = \"https://raw.githubusercontent.com/thedreadpersephone/data-and-python/refs/heads/main/movies.csv\"\n",
        "db = pd.read_csv(url)\n",
        "db.head()\n",
        "\n"
      ],
      "metadata": {
        "id": "XqkqkmYXaavd",
        "colab": {
          "base_uri": "https://localhost:8080/",
          "height": 206
        },
        "outputId": "fff4bfba-9359-494b-9b9b-5fb2cdc2703f"
      },
      "execution_count": null,
      "outputs": [
        {
          "output_type": "execute_result",
          "data": {
            "text/plain": [
              "   Unnamed: 0 first_name    last_name                      name  year  rank  \\\n",
              "0           0        Les  12 Poissons      Rondo pour trompette  2002   NaN   \n",
              "1           1    Lejaren     a'Hiller  Sleep of Cyma Roget, The  1920   NaN   \n",
              "2           2   Khairiya    A-Mansour          Churches in Iraq  1988   NaN   \n",
              "3           3    Ricardo     A. Solla                  Foto, La  2001   NaN   \n",
              "4           4    Ricardo     A. Solla                  Foto, La  2001   NaN   \n",
              "\n",
              "         genre  \n",
              "0        Short  \n",
              "1        Drama  \n",
              "2  Documentary  \n",
              "3        Drama  \n",
              "4        Short  "
            ],
            "text/html": [
              "\n",
              "  <div id=\"df-903e35b2-2cd5-4a92-a06c-d213e1d0aa1f\" class=\"colab-df-container\">\n",
              "    <div>\n",
              "<style scoped>\n",
              "    .dataframe tbody tr th:only-of-type {\n",
              "        vertical-align: middle;\n",
              "    }\n",
              "\n",
              "    .dataframe tbody tr th {\n",
              "        vertical-align: top;\n",
              "    }\n",
              "\n",
              "    .dataframe thead th {\n",
              "        text-align: right;\n",
              "    }\n",
              "</style>\n",
              "<table border=\"1\" class=\"dataframe\">\n",
              "  <thead>\n",
              "    <tr style=\"text-align: right;\">\n",
              "      <th></th>\n",
              "      <th>Unnamed: 0</th>\n",
              "      <th>first_name</th>\n",
              "      <th>last_name</th>\n",
              "      <th>name</th>\n",
              "      <th>year</th>\n",
              "      <th>rank</th>\n",
              "      <th>genre</th>\n",
              "    </tr>\n",
              "  </thead>\n",
              "  <tbody>\n",
              "    <tr>\n",
              "      <th>0</th>\n",
              "      <td>0</td>\n",
              "      <td>Les</td>\n",
              "      <td>12 Poissons</td>\n",
              "      <td>Rondo pour trompette</td>\n",
              "      <td>2002</td>\n",
              "      <td>NaN</td>\n",
              "      <td>Short</td>\n",
              "    </tr>\n",
              "    <tr>\n",
              "      <th>1</th>\n",
              "      <td>1</td>\n",
              "      <td>Lejaren</td>\n",
              "      <td>a'Hiller</td>\n",
              "      <td>Sleep of Cyma Roget, The</td>\n",
              "      <td>1920</td>\n",
              "      <td>NaN</td>\n",
              "      <td>Drama</td>\n",
              "    </tr>\n",
              "    <tr>\n",
              "      <th>2</th>\n",
              "      <td>2</td>\n",
              "      <td>Khairiya</td>\n",
              "      <td>A-Mansour</td>\n",
              "      <td>Churches in Iraq</td>\n",
              "      <td>1988</td>\n",
              "      <td>NaN</td>\n",
              "      <td>Documentary</td>\n",
              "    </tr>\n",
              "    <tr>\n",
              "      <th>3</th>\n",
              "      <td>3</td>\n",
              "      <td>Ricardo</td>\n",
              "      <td>A. Solla</td>\n",
              "      <td>Foto, La</td>\n",
              "      <td>2001</td>\n",
              "      <td>NaN</td>\n",
              "      <td>Drama</td>\n",
              "    </tr>\n",
              "    <tr>\n",
              "      <th>4</th>\n",
              "      <td>4</td>\n",
              "      <td>Ricardo</td>\n",
              "      <td>A. Solla</td>\n",
              "      <td>Foto, La</td>\n",
              "      <td>2001</td>\n",
              "      <td>NaN</td>\n",
              "      <td>Short</td>\n",
              "    </tr>\n",
              "  </tbody>\n",
              "</table>\n",
              "</div>\n",
              "    <div class=\"colab-df-buttons\">\n",
              "\n",
              "  <div class=\"colab-df-container\">\n",
              "    <button class=\"colab-df-convert\" onclick=\"convertToInteractive('df-903e35b2-2cd5-4a92-a06c-d213e1d0aa1f')\"\n",
              "            title=\"Convert this dataframe to an interactive table.\"\n",
              "            style=\"display:none;\">\n",
              "\n",
              "  <svg xmlns=\"http://www.w3.org/2000/svg\" height=\"24px\" viewBox=\"0 -960 960 960\">\n",
              "    <path d=\"M120-120v-720h720v720H120Zm60-500h600v-160H180v160Zm220 220h160v-160H400v160Zm0 220h160v-160H400v160ZM180-400h160v-160H180v160Zm440 0h160v-160H620v160ZM180-180h160v-160H180v160Zm440 0h160v-160H620v160Z\"/>\n",
              "  </svg>\n",
              "    </button>\n",
              "\n",
              "  <style>\n",
              "    .colab-df-container {\n",
              "      display:flex;\n",
              "      gap: 12px;\n",
              "    }\n",
              "\n",
              "    .colab-df-convert {\n",
              "      background-color: #E8F0FE;\n",
              "      border: none;\n",
              "      border-radius: 50%;\n",
              "      cursor: pointer;\n",
              "      display: none;\n",
              "      fill: #1967D2;\n",
              "      height: 32px;\n",
              "      padding: 0 0 0 0;\n",
              "      width: 32px;\n",
              "    }\n",
              "\n",
              "    .colab-df-convert:hover {\n",
              "      background-color: #E2EBFA;\n",
              "      box-shadow: 0px 1px 2px rgba(60, 64, 67, 0.3), 0px 1px 3px 1px rgba(60, 64, 67, 0.15);\n",
              "      fill: #174EA6;\n",
              "    }\n",
              "\n",
              "    .colab-df-buttons div {\n",
              "      margin-bottom: 4px;\n",
              "    }\n",
              "\n",
              "    [theme=dark] .colab-df-convert {\n",
              "      background-color: #3B4455;\n",
              "      fill: #D2E3FC;\n",
              "    }\n",
              "\n",
              "    [theme=dark] .colab-df-convert:hover {\n",
              "      background-color: #434B5C;\n",
              "      box-shadow: 0px 1px 3px 1px rgba(0, 0, 0, 0.15);\n",
              "      filter: drop-shadow(0px 1px 2px rgba(0, 0, 0, 0.3));\n",
              "      fill: #FFFFFF;\n",
              "    }\n",
              "  </style>\n",
              "\n",
              "    <script>\n",
              "      const buttonEl =\n",
              "        document.querySelector('#df-903e35b2-2cd5-4a92-a06c-d213e1d0aa1f button.colab-df-convert');\n",
              "      buttonEl.style.display =\n",
              "        google.colab.kernel.accessAllowed ? 'block' : 'none';\n",
              "\n",
              "      async function convertToInteractive(key) {\n",
              "        const element = document.querySelector('#df-903e35b2-2cd5-4a92-a06c-d213e1d0aa1f');\n",
              "        const dataTable =\n",
              "          await google.colab.kernel.invokeFunction('convertToInteractive',\n",
              "                                                    [key], {});\n",
              "        if (!dataTable) return;\n",
              "\n",
              "        const docLinkHtml = 'Like what you see? Visit the ' +\n",
              "          '<a target=\"_blank\" href=https://colab.research.google.com/notebooks/data_table.ipynb>data table notebook</a>'\n",
              "          + ' to learn more about interactive tables.';\n",
              "        element.innerHTML = '';\n",
              "        dataTable['output_type'] = 'display_data';\n",
              "        await google.colab.output.renderOutput(dataTable, element);\n",
              "        const docLink = document.createElement('div');\n",
              "        docLink.innerHTML = docLinkHtml;\n",
              "        element.appendChild(docLink);\n",
              "      }\n",
              "    </script>\n",
              "  </div>\n",
              "\n",
              "\n",
              "<div id=\"df-b8ded994-aabb-45a4-8e19-b1a50758f700\">\n",
              "  <button class=\"colab-df-quickchart\" onclick=\"quickchart('df-b8ded994-aabb-45a4-8e19-b1a50758f700')\"\n",
              "            title=\"Suggest charts\"\n",
              "            style=\"display:none;\">\n",
              "\n",
              "<svg xmlns=\"http://www.w3.org/2000/svg\" height=\"24px\"viewBox=\"0 0 24 24\"\n",
              "     width=\"24px\">\n",
              "    <g>\n",
              "        <path d=\"M19 3H5c-1.1 0-2 .9-2 2v14c0 1.1.9 2 2 2h14c1.1 0 2-.9 2-2V5c0-1.1-.9-2-2-2zM9 17H7v-7h2v7zm4 0h-2V7h2v10zm4 0h-2v-4h2v4z\"/>\n",
              "    </g>\n",
              "</svg>\n",
              "  </button>\n",
              "\n",
              "<style>\n",
              "  .colab-df-quickchart {\n",
              "      --bg-color: #E8F0FE;\n",
              "      --fill-color: #1967D2;\n",
              "      --hover-bg-color: #E2EBFA;\n",
              "      --hover-fill-color: #174EA6;\n",
              "      --disabled-fill-color: #AAA;\n",
              "      --disabled-bg-color: #DDD;\n",
              "  }\n",
              "\n",
              "  [theme=dark] .colab-df-quickchart {\n",
              "      --bg-color: #3B4455;\n",
              "      --fill-color: #D2E3FC;\n",
              "      --hover-bg-color: #434B5C;\n",
              "      --hover-fill-color: #FFFFFF;\n",
              "      --disabled-bg-color: #3B4455;\n",
              "      --disabled-fill-color: #666;\n",
              "  }\n",
              "\n",
              "  .colab-df-quickchart {\n",
              "    background-color: var(--bg-color);\n",
              "    border: none;\n",
              "    border-radius: 50%;\n",
              "    cursor: pointer;\n",
              "    display: none;\n",
              "    fill: var(--fill-color);\n",
              "    height: 32px;\n",
              "    padding: 0;\n",
              "    width: 32px;\n",
              "  }\n",
              "\n",
              "  .colab-df-quickchart:hover {\n",
              "    background-color: var(--hover-bg-color);\n",
              "    box-shadow: 0 1px 2px rgba(60, 64, 67, 0.3), 0 1px 3px 1px rgba(60, 64, 67, 0.15);\n",
              "    fill: var(--button-hover-fill-color);\n",
              "  }\n",
              "\n",
              "  .colab-df-quickchart-complete:disabled,\n",
              "  .colab-df-quickchart-complete:disabled:hover {\n",
              "    background-color: var(--disabled-bg-color);\n",
              "    fill: var(--disabled-fill-color);\n",
              "    box-shadow: none;\n",
              "  }\n",
              "\n",
              "  .colab-df-spinner {\n",
              "    border: 2px solid var(--fill-color);\n",
              "    border-color: transparent;\n",
              "    border-bottom-color: var(--fill-color);\n",
              "    animation:\n",
              "      spin 1s steps(1) infinite;\n",
              "  }\n",
              "\n",
              "  @keyframes spin {\n",
              "    0% {\n",
              "      border-color: transparent;\n",
              "      border-bottom-color: var(--fill-color);\n",
              "      border-left-color: var(--fill-color);\n",
              "    }\n",
              "    20% {\n",
              "      border-color: transparent;\n",
              "      border-left-color: var(--fill-color);\n",
              "      border-top-color: var(--fill-color);\n",
              "    }\n",
              "    30% {\n",
              "      border-color: transparent;\n",
              "      border-left-color: var(--fill-color);\n",
              "      border-top-color: var(--fill-color);\n",
              "      border-right-color: var(--fill-color);\n",
              "    }\n",
              "    40% {\n",
              "      border-color: transparent;\n",
              "      border-right-color: var(--fill-color);\n",
              "      border-top-color: var(--fill-color);\n",
              "    }\n",
              "    60% {\n",
              "      border-color: transparent;\n",
              "      border-right-color: var(--fill-color);\n",
              "    }\n",
              "    80% {\n",
              "      border-color: transparent;\n",
              "      border-right-color: var(--fill-color);\n",
              "      border-bottom-color: var(--fill-color);\n",
              "    }\n",
              "    90% {\n",
              "      border-color: transparent;\n",
              "      border-bottom-color: var(--fill-color);\n",
              "    }\n",
              "  }\n",
              "</style>\n",
              "\n",
              "  <script>\n",
              "    async function quickchart(key) {\n",
              "      const quickchartButtonEl =\n",
              "        document.querySelector('#' + key + ' button');\n",
              "      quickchartButtonEl.disabled = true;  // To prevent multiple clicks.\n",
              "      quickchartButtonEl.classList.add('colab-df-spinner');\n",
              "      try {\n",
              "        const charts = await google.colab.kernel.invokeFunction(\n",
              "            'suggestCharts', [key], {});\n",
              "      } catch (error) {\n",
              "        console.error('Error during call to suggestCharts:', error);\n",
              "      }\n",
              "      quickchartButtonEl.classList.remove('colab-df-spinner');\n",
              "      quickchartButtonEl.classList.add('colab-df-quickchart-complete');\n",
              "    }\n",
              "    (() => {\n",
              "      let quickchartButtonEl =\n",
              "        document.querySelector('#df-b8ded994-aabb-45a4-8e19-b1a50758f700 button');\n",
              "      quickchartButtonEl.style.display =\n",
              "        google.colab.kernel.accessAllowed ? 'block' : 'none';\n",
              "    })();\n",
              "  </script>\n",
              "</div>\n",
              "\n",
              "    </div>\n",
              "  </div>\n"
            ],
            "application/vnd.google.colaboratory.intrinsic+json": {
              "type": "dataframe",
              "variable_name": "db"
            }
          },
          "metadata": {},
          "execution_count": 33
        }
      ]
    },
    {
      "cell_type": "markdown",
      "source": [
        "## Clean and Transform\n",
        "\n",
        "\n",
        "---\n",
        "\n"
      ],
      "metadata": {
        "id": "uqX6FgJPabBw"
      }
    },
    {
      "cell_type": "markdown",
      "source": [
        "### Clean the Data\n",
        "\n",
        "In order to clean the data, we will investigate the data in each column and decide what actions need to be taken.\n",
        "\n",
        "We will also look at the dataset as a whole to determine how to deal with missing or incomplete data.\n",
        "\n",
        "\n",
        "\n",
        "---\n",
        "\n",
        "\n",
        "#Missing rank values\n",
        "As can be seen below, we have investigated the database and can immediately see that there are null values in the database and that the non-null count in the rank column is less than the total entries. This means that many films do not have a rank. As rank is essential to the question we are asking of the data, we will not be able to use any rows without rank values. Therefore these rows have been dropped from the dataset. After this we can see that the number of entries has reduced. All other columns appear to have complete data.\n",
        "\n",
        "\n",
        "\n",
        "---\n",
        "\n",
        "\n",
        "\n"
      ],
      "metadata": {
        "id": "-I_YeORpfaNk"
      }
    },
    {
      "cell_type": "code",
      "source": [
        "def check_null():\n",
        "  db.info()\n",
        "  # displays the info about the database\n",
        "  null = db.isnull().values.any()\n",
        "  #checks if any NA values exist in the dataframe\n",
        "  return null\n",
        "check_null()\n",
        "\n",
        "def drop_null():\n",
        "  cleaned_db = db.dropna(subset=[\"rank\"])\n",
        "  #removes the rows with null values for the column, to specify a column or columns I need to use subset =\n",
        "  cleaned_db.info()\n",
        "  #now we compare the information to see what has changed after dropping rows\n",
        "  return cleaned_db\n",
        "cleaned_db = drop_null()\n"
      ],
      "metadata": {
        "id": "a4yluXmqaeuJ",
        "colab": {
          "base_uri": "https://localhost:8080/"
        },
        "outputId": "21c8dc97-2010-4fdf-9b4b-a25fbf863587"
      },
      "execution_count": null,
      "outputs": [
        {
          "output_type": "stream",
          "name": "stdout",
          "text": [
            "<class 'pandas.core.frame.DataFrame'>\n",
            "RangeIndex: 368894 entries, 0 to 368893\n",
            "Data columns (total 7 columns):\n",
            " #   Column      Non-Null Count   Dtype  \n",
            "---  ------      --------------   -----  \n",
            " 0   Unnamed: 0  368894 non-null  int64  \n",
            " 1   first_name  368894 non-null  object \n",
            " 2   last_name   368894 non-null  object \n",
            " 3   name        368894 non-null  object \n",
            " 4   year        368894 non-null  int64  \n",
            " 5   rank        113376 non-null  float64\n",
            " 6   genre       368894 non-null  object \n",
            "dtypes: float64(1), int64(2), object(4)\n",
            "memory usage: 19.7+ MB\n",
            "<class 'pandas.core.frame.DataFrame'>\n",
            "Index: 113376 entries, 77 to 368891\n",
            "Data columns (total 7 columns):\n",
            " #   Column      Non-Null Count   Dtype  \n",
            "---  ------      --------------   -----  \n",
            " 0   Unnamed: 0  113376 non-null  int64  \n",
            " 1   first_name  113376 non-null  object \n",
            " 2   last_name   113376 non-null  object \n",
            " 3   name        113376 non-null  object \n",
            " 4   year        113376 non-null  int64  \n",
            " 5   rank        113376 non-null  float64\n",
            " 6   genre       113376 non-null  object \n",
            "dtypes: float64(1), int64(2), object(4)\n",
            "memory usage: 6.9+ MB\n"
          ]
        }
      ]
    },
    {
      "cell_type": "markdown",
      "source": [
        "### Feature Extraction\n",
        "\n",
        "We have each director's first and last name in a separate column. It would be preferable to have one column for fullname. Therefore, we will combine them into one column and drop first and last name."
      ],
      "metadata": {
        "id": "iqvKlhrEMifE"
      }
    },
    {
      "cell_type": "code",
      "source": [
        "def combine_columns():\n",
        "  cleaned_db['FullName'] = cleaned_db['first_name'] + ' ' + cleaned_db['last_name']\n",
        "  #combines the 2 columns into 1 new column\n",
        "  cols_to_drop = ['first_name', 'last_name']\n",
        "  combined_db = cleaned_db.drop(columns=cols_to_drop)\n",
        "  #drops the unwanted columns\n",
        "  print(combined_db.head())\n",
        "  combined_db.to_csv('movies_cleaned.csv')\n",
        "  return combined_db\n",
        "combined_db = combine_columns()"
      ],
      "metadata": {
        "id": "QJmONnNTMsw0",
        "colab": {
          "base_uri": "https://localhost:8080/"
        },
        "outputId": "faf6dc66-6628-4b33-ef9f-f65999349db3"
      },
      "execution_count": null,
      "outputs": [
        {
          "output_type": "stream",
          "name": "stdout",
          "text": [
            "    Unnamed: 0             name  year  rank        genre         FullName\n",
            "77          77     Cleaning Up!  2002   8.3  Documentary  Rostislav Aalto\n",
            "78          78         Is meidn  1993   6.8        Drama  Veikko Aaltonen\n",
            "79          79  Juoksuhaudantie  2004   6.3       Comedy  Veikko Aaltonen\n",
            "80          80  Juoksuhaudantie  2004   6.3        Drama  Veikko Aaltonen\n",
            "81          81              Maa  2001   6.0  Documentary  Veikko Aaltonen\n"
          ]
        }
      ]
    },
    {
      "cell_type": "markdown",
      "source": [
        "\n",
        "\n",
        "Because the data is already in long format, which is the most appropriate for analysing using visualisation software, we do not need to reshape it. However, we will either need to reshape it or drop duplicate values when investigating the data in Python or Excel."
      ],
      "metadata": {
        "id": "weguFsbHMwj3"
      }
    },
    {
      "cell_type": "markdown",
      "source": [
        "## Analyse\n",
        "\n",
        "\n",
        "---\n",
        "\n"
      ],
      "metadata": {
        "id": "ucsYhp4Aae-E"
      }
    },
    {
      "cell_type": "markdown",
      "source": [
        "### Summary Statistics\n",
        "\n",
        "To get an understanding of the dataset as a whole, we will look at the summary statistics of the numeric columns and find out about more about the categorical values."
      ],
      "metadata": {
        "id": "DQrEEFAtfl_o"
      }
    },
    {
      "cell_type": "code",
      "source": [
        "def explore_data():\n",
        "  print(combined_db.describe())\n",
        "  #describes the numerical data\n",
        "  print(combined_db.describe(exclude=[np.number]))\n",
        "  #describes the categorical data\n",
        "explore_data()\n",
        "\n"
      ],
      "metadata": {
        "id": "LlNQ9LrzapLA",
        "colab": {
          "base_uri": "https://localhost:8080/"
        },
        "outputId": "7f4061ea-20c9-4564-be57-80652c0577ec"
      },
      "execution_count": null,
      "outputs": [
        {
          "output_type": "stream",
          "name": "stdout",
          "text": [
            "          Unnamed: 0           year           rank\n",
            "count  113376.000000  113376.000000  113376.000000\n",
            "mean   184806.412583    1975.102764       5.995124\n",
            "std    106369.286163      24.166500       1.540330\n",
            "min        77.000000    1892.000000       1.000000\n",
            "25%     95164.250000    1955.000000       5.100000\n",
            "50%    182475.500000    1981.000000       6.200000\n",
            "75%    277251.250000    1997.000000       7.100000\n",
            "max    368891.000000    2004.000000       9.900000\n",
            "                         name   genre      FullName\n",
            "count                  113376  113376        113376\n",
            "unique                  55954      20         22104\n",
            "top     Scnario sur la drogue   Drama  Friz Freleng\n",
            "freq                       75   24696          1025\n"
          ]
        }
      ]
    },
    {
      "cell_type": "markdown",
      "source": [
        "### Investigating Rank\n",
        "\n",
        "Our first visualisation is on the rank data, which we have summarised using a histogram.\n",
        "\n",
        "---\n",
        "\n",
        "The histogram shows that most films are ranked between 5 and 7, with fewer films ranked at the very low or high extremes.\n",
        "\n",
        "\n",
        "\n",
        "\n",
        "---"
      ],
      "metadata": {
        "id": "AKZCznN8J5rT"
      }
    },
    {
      "cell_type": "code",
      "source": [
        "def plot_histogram():\n",
        "  cols_to_keep = [\"rank\"]\n",
        "  #creates a list of columns to keep\n",
        "  data = combined_db[cols_to_keep]\n",
        "  #filters the columns to keep\n",
        "  plt.hist(data)\n",
        "  #plots the histogram\n",
        "  plt.xlabel(\"Rank\")\n",
        "  #adds labels to the axes\n",
        "  plt.hist(data, color=\"darkviolet\")\n",
        "  #changes the colour of the bars\n",
        "  plt.show()\n",
        "plot_histogram()\n"
      ],
      "metadata": {
        "id": "wlMPSpuUKxli",
        "colab": {
          "base_uri": "https://localhost:8080/",
          "height": 449
        },
        "outputId": "fb45ad5c-1a82-498b-cc59-c1e7df072ba4"
      },
      "execution_count": null,
      "outputs": [
        {
          "output_type": "display_data",
          "data": {
            "text/plain": [
              "<Figure size 640x480 with 1 Axes>"
            ],
            "image/png": "[encoded data removed]"
          },
          "metadata": {}
        }
      ]
    },
    {
      "cell_type": "markdown",
      "source": [
        "### Investigating Genre\n",
        "\n",
        "Our next visualisation is on the genre data, for which we have used a bar chart to show the freqency of each category.\n",
        "\n",
        "\n",
        "---\n",
        "\n",
        "\n",
        "The bar graph shows that drama is the most frequently occurring genre, followed by comedy. On the other hand, film noir and music are the two least frequently occurring genres.\n",
        "\n",
        "\n",
        "---"
      ],
      "metadata": {
        "id": "7i2m8yJWLO2_"
      }
    },
    {
      "cell_type": "code",
      "source": [
        "def plot_bar():\n",
        "  grouped_data = combined_db.groupby(by='genre').size()\n",
        "  labels = grouped_data.keys()\n",
        "  x = labels\n",
        "  y = grouped_data\n",
        "  plt.barh(x, y, color='aqua')\n",
        "  plt.xlabel(\"Frequency\")\n",
        "  plt.ylabel(\"Genre\")\n",
        "  plt.show()\n",
        "plot_bar()\n",
        "\n"
      ],
      "metadata": {
        "id": "NfsRjEk0LPXy",
        "colab": {
          "base_uri": "https://localhost:8080/",
          "height": 449
        },
        "outputId": "d7b2fc4b-1817-4a6f-c2b9-cd79fde24933"
      },
      "execution_count": null,
      "outputs": [
        {
          "output_type": "display_data",
          "data": {
            "text/plain": [
              "<Figure size 640x480 with 1 Axes>"
            ],
            "image/png": "[encoded data removed]"
          },
          "metadata": {}
        }
      ]
    },
    {
      "cell_type": "markdown",
      "source": [
        "### Investigating the relationship between rank and year\n",
        "\n",
        "Our final plot shows the mean rank over time.\n",
        "\n",
        "\n",
        "---\n",
        "\n",
        "The line graph shows the highest mean rank in the late 1920s, which sharply drops around 1930 before increasing again until the 1960s. Mean ranks then decrease overall until the late 90s when they start increasing again. We might speculate as to historical events in those periods or innovation in film technology affecting audience mood and feeling about films. The mean ranks leading up to the 1920s are very inconsistent and may reflect a lack of data in this early period.  \n",
        "\n",
        "\n",
        "---"
      ],
      "metadata": {
        "id": "MmD_wh4-M0tY"
      }
    },
    {
      "cell_type": "code",
      "source": [
        "def plot_line():\n",
        "  grouped_data = combined_db.groupby('year')['rank'].mean()\n",
        "  labels = grouped_data.keys()\n",
        "  x = labels\n",
        "  y = grouped_data\n",
        "  plt.plot(x,y, color='black')\n",
        "  plt.xlabel('Year')\n",
        "  plt.ylabel(\"Mean rank\")\n",
        "  plt.grid()\n",
        "  plt.show()\n",
        "plot_line()"
      ],
      "metadata": {
        "id": "6YOC9Tq9N06v",
        "colab": {
          "base_uri": "https://localhost:8080/",
          "height": 449
        },
        "outputId": "0ab244f4-78d7-45de-94c0-894d3e9ddc42"
      },
      "execution_count": null,
      "outputs": [
        {
          "output_type": "display_data",
          "data": {
            "text/plain": [
              "<Figure size 640x480 with 1 Axes>"
            ],
            "image/png": "[encoded data removed]"
          },
          "metadata": {}
        }
      ]
    },
    {
      "cell_type": "markdown",
      "source": [
        "## Interpret and Visualise\n",
        "\n",
        "\n",
        "---\n",
        "\n"
      ],
      "metadata": {
        "id": "t-IprkKkaks9"
      }
    },
    {
      "cell_type": "markdown",
      "source": [
        "<img src=\"https://drive.google.com/uc?id=1gFNYEpS7qFx6L7REpM_5inB6zwxyEuQ7\">\n",
        "\n"
      ],
      "metadata": {
        "id": "G3EYjKLQfwbQ"
      }
    },
    {
      "cell_type": "markdown",
      "source": [],
      "metadata": {
        "id": "u7SBtY2zfKa0"
      }
    },
    {
      "cell_type": "markdown",
      "source": [
        "<img src=\"https://drive.google.com/uc?id=10fFK-WX9hlYnKo6Lxa5y5077VN5cgAxS\">\n",
        "\n"
      ],
      "metadata": {
        "id": "vS6qY6hBeFJD"
      }
    },
    {
      "cell_type": "markdown",
      "source": [
        "<img src=\"https://drive.google.com/uc?id=1rsCyUyKSruoqyfoeGw5QMNS8yoDbuPK7\">"
      ],
      "metadata": {
        "id": "gaVBUH40e_uK"
      }
    },
    {
      "cell_type": "markdown",
      "source": [
        "<img src=\"https://drive.google.com/uc?id=1ZGqhyKRVu1YIoSuUMRBtfkpZGgVHTGUx\">\n"
      ],
      "metadata": {
        "id": "Q1FwU_w_f67W"
      }
    },
    {
      "cell_type": "markdown",
      "source": [
        "<img src=\"https://drive.google.com/uc?id=1NTBCGESPrDPOLZdUWWAW5yo3Hpd7YiFH\">\n"
      ],
      "metadata": {
        "id": "HD8EjZy5gOp1"
      }
    },
    {
      "cell_type": "markdown",
      "source": [
        "## Tell the Story\n",
        "\n",
        "\n",
        "\n",
        "---\n",
        "\n"
      ],
      "metadata": {
        "id": "e2weqIKeaoOE"
      }
    },
    {
      "cell_type": "markdown",
      "source": [
        "#Key findings\n",
        "\n",
        "**Directors:**\n",
        "The number of directors releasing films over the course of a year has increased over time from under 100 until 1913 up to a peak of 4846 in 2002. This likely reflects improvements in technology and the growth of the film industry leading to film making becoming a more accessible art form.\n",
        "\n",
        "**Genres:** We can see the number of different genres increasing over the time period covered by the dataset from only 5 in the early years to a consistent 19 from 1960 until the end. This reflects an increasing diversity in the types of film created which then plateaus. As noted, film noir entirely disappears from the dataset in 1960, perhaps this is unsurprising as it is a genre of film associated with a particular time period. Film noir also has the highest average ranking of all the genres but since it is not present in later years when ranking is lower overall, we should consider whether this is a fair comparison.\n",
        "\n",
        "**Ranks:** The highest average rank of 7.19 was achieved in 1927 and 1928 and average ranks have not gone above 6.5 since 1946. Many things about the film industry and audience attitudes may have changed in that time that could have affected ranking. For instance, towards the end of the time period covered by the dataset many more films are made and they are watched in different settings. Therefore we can't conclude that films made in the 1920s are objectively 'better' than films made in the 1980s.\n",
        "\n",
        "**High ranking movies:** In terms of genres, we can see at a glance that comedy, documentary and shorts are well represented in the graph of directors with an average rank of above 9. We can also see that there are 8 directors with the highest average rank, 9.90.\n",
        "\n",
        "**Conclusions:** Although some interesting trends can be picked out of this dataset, it would be difficult to draw any firm conclusions as to the recipe for a high ranking movie. The dataset covers such a large time period, over which there has been huge technological and social change that it is hard to say that audiences would enjoy or expect the same things from a film. Further analysis could focus in on a much smaller time period, a decade for example. It would also be interesting to learn more about how the ranking data was collected. Were the films all ranked by contemporary audiences? The process of collecting opinions on films in the early 1900s would be very different to the process of the early 2000s."
      ],
      "metadata": {
        "id": "Vq3qXiDRfxWr"
      }
    },
    {
      "cell_type": "markdown",
      "source": [
        "## Evaluate the Process\n",
        "\n",
        "\n",
        "---\n",
        "\n"
      ],
      "metadata": {
        "id": "d_sOgyilatIK"
      }
    },
    {
      "cell_type": "markdown",
      "source": [
        "#**Collecting the data:**\n",
        "Initially I intended to upload the csv file directly from my hard drive, however this proved difficult and I realised I would have to add it again every time I work on the project. So I decided it would be better to use a GitHub url instead. I then had to make my GitHub repository public so that I could access the file.\n",
        "#**Cleaning and transforming:**\n",
        "Cleaning the data by removing rows with null values went well, this didn't seem too difficult. The feature extraction was more tricky because I wasn't sure how to combine columns. However I now feel more confident about doing this in future.\n",
        "#**Summary Statistics**\n",
        "I enjoy plotting charts in Python but I had some trouble with the bar chart, it was good to practice using groupby and really thinking about what I want my charts to show.\n",
        "\n",
        "#**Interpret and Visualise**\n",
        "I find Power BI a bit difficult to work with and not very intuitive. Something simple like renaming columns or axes seems more tricky than it should be. It also wasn't easy to embed the images in the notebook. I learned a lot through doing this though."
      ],
      "metadata": {
        "id": "CZTB1yklfyXA"
      }
    }
  ]
}